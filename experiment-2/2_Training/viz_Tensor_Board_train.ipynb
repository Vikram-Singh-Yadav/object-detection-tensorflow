{
 "cells": [
  {
   "cell_type": "markdown",
   "id": "09c0db7f",
   "metadata": {},
   "source": [
    "## TensorBoard Events S3 Path"
   ]
  },
  {
   "cell_type": "code",
   "execution_count": 1,
   "id": "a2cdbf67",
   "metadata": {},
   "outputs": [],
   "source": [
    "# tensorboard_s3_output_path = f'{job_artifacts_path}/train'\n",
    "\n",
    "tensorboard_s3_output_path = f's3://eagle-eye-dataset/OD_using_TFOD_API/experiment2/tensorboard/ssd/tf2-object-detection-expr2-2021-06-23-11-35-49-836/tensorboard-output/train'"
   ]
  },
  {
   "cell_type": "markdown",
   "id": "584ac06b",
   "metadata": {},
   "source": [
    "## Run TensorBoard"
   ]
  },
  {
   "cell_type": "code",
   "execution_count": null,
   "id": "02b9806d",
   "metadata": {},
   "outputs": [
    {
     "name": "stdout",
     "output_type": "stream",
     "text": [
      "Serving TensorBoard on localhost; to expose to the network, use a proxy or pass --bind_all\n",
      "TensorBoard 2.1.1 at http://localhost:6006/ (Press CTRL+C to quit)\n"
     ]
    }
   ],
   "source": [
    "\n",
    "\n",
    "!F_CPP_MIN_LOG_LEVEL=3 AWS_REGION=us-west-2 tensorboard --logdir=$tensorboard_s3_output_path"
   ]
  },
  {
   "cell_type": "code",
   "execution_count": null,
   "id": "ceb77140",
   "metadata": {},
   "outputs": [],
   "source": []
  }
 ],
 "metadata": {
  "kernelspec": {
   "display_name": "conda_tensorflow2_p36",
   "language": "python",
   "name": "conda_tensorflow2_p36"
  },
  "language_info": {
   "codemirror_mode": {
    "name": "ipython",
    "version": 3
   },
   "file_extension": ".py",
   "mimetype": "text/x-python",
   "name": "python",
   "nbconvert_exporter": "python",
   "pygments_lexer": "ipython3",
   "version": "3.6.13"
  }
 },
 "nbformat": 4,
 "nbformat_minor": 5
}
