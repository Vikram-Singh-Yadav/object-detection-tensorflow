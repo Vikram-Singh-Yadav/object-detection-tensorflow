{
 "cells": [
  {
   "cell_type": "markdown",
   "metadata": {},
   "source": [
    "# Data preparation"
   ]
  },
  {
   "cell_type": "markdown",
   "metadata": {},
   "source": [
    "## 1. Import Libraries"
   ]
  },
  {
   "cell_type": "code",
   "execution_count": 1,
   "metadata": {},
   "outputs": [
    {
     "name": "stdout",
     "output_type": "stream",
     "text": [
      "arn:aws:iam::743025358310:role/service-role/AmazonSageMaker-ExecutionRole-20210528T211254\n"
     ]
    }
   ],
   "source": [
    "import boto3\n",
    "import sagemaker\n",
    "\n",
    "sagemaker_session = sagemaker.Session()\n",
    "\n",
    "role = sagemaker.get_execution_role() \n",
    "print(role)\n",
    "\n",
    "\n",
    "bucket = 'eagle-eye-dataset'\n",
    "prefix = 'OD_using_TFOD_API/experiment2/tfrecords'"
   ]
  },
  {
   "cell_type": "markdown",
   "metadata": {},
   "source": [
    "## 2. Uploading To S3"
   ]
  },
  {
   "cell_type": "code",
   "execution_count": 2,
   "metadata": {},
   "outputs": [
    {
     "name": "stdout",
     "output_type": "stream",
     "text": [
      "s3://eagle-eye-dataset/OD_using_TFOD_API/experiment2/tfrecords\n"
     ]
    }
   ],
   "source": [
    "s3_input = sagemaker_session.upload_data('data', bucket, prefix)\n",
    "print(s3_input)"
   ]
  },
  {
   "cell_type": "markdown",
   "metadata": {},
   "source": [
    "## 3. Copying data To Local Path \n"
   ]
  },
  {
   "cell_type": "code",
   "execution_count": 3,
   "metadata": {},
   "outputs": [],
   "source": [
    "image_name = 'copying-ecr-expr2'"
   ]
  },
  {
   "cell_type": "code",
   "execution_count": 4,
   "metadata": {
    "scrolled": true
   },
   "outputs": [
    {
     "name": "stdout",
     "output_type": "stream",
     "text": [
      "WARNING! Your password will be stored unencrypted in /home/ec2-user/.docker/config.json.\n",
      "Configure a credential helper to remove this warning. See\n",
      "https://docs.docker.com/engine/reference/commandline/login/#credentials-store\n",
      "\n",
      "./docker/build_and_push.sh: line 19: Login: command not found\n",
      "Building image with name copying-ecr-expr2\n",
      "Sending build context to Docker daemon  2.847MB\n",
      "Step 1/5 : FROM tensorflow/tensorflow:2.2.0rc2-gpu-py3-jupyter\n",
      "2.2.0rc2-gpu-py3-jupyter: Pulling from tensorflow/tensorflow\n",
      "\n",
      "\u001b[1Bc47eeb70: Pulling fs layer \n",
      "\u001b[1Bdc448b72: Pulling fs layer \n",
      "\u001b[1B70e39044: Pulling fs layer \n",
      "\u001b[1B37916d57: Pulling fs layer \n",
      "\u001b[1B569ddae6: Pulling fs layer \n",
      "\u001b[1B6706b020: Pulling fs layer \n",
      "\u001b[1B457b77d0: Pulling fs layer \n",
      "\u001b[1Bb11afb03: Pulling fs layer \n",
      "\u001b[1B03d246b7: Pulling fs layer \n",
      "\u001b[1Bbf740dc5: Pulling fs layer \n",
      "\u001b[1B6571b03e: Pulling fs layer \n",
      "\u001b[1Be26686fc: Pulling fs layer \n",
      "\u001b[1B4fc07c88: Pulling fs layer \n",
      "\u001b[1B8737545a: Pulling fs layer \n",
      "\u001b[1Bc4ed5e10: Pulling fs layer \n",
      "\u001b[1B9258dcd0: Pulling fs layer \n",
      "\u001b[1Bfc39a63e: Pulling fs layer \n",
      "\u001b[1B11124b04: Pulling fs layer \n",
      "\u001b[1Bff5bd18c: Pulling fs layer \n",
      "\u001b[1Bdfbfead4: Pulling fs layer \n",
      "\u001b[1B17a9fc37: Pulling fs layer \n",
      "\u001b[1Bb49560bc: Pulling fs layer \n",
      "\u001b[1Bd43e9afb: Pulling fs layer \n",
      "\u001b[1B7597ba56: Pulling fs layer \n",
      "\u001b[1B16a06a6e: Pulling fs layer \n",
      "\u001b[1Bd5be3860: Pulling fs layer \n",
      "\u001b[1B3642d0b4: Pulling fs layer \n",
      "\u001b[1Bc0e5b0a1: Pulling fs layer \n",
      "\u001b[1Bdd4e85da: Pulling fs layer \n",
      "\u001b[1B3a7d4b15: Pulling fs layer \n",
      "\u001b[1B7002113f: Pulling fs layer \n",
      "\u001b[1B05927b0f: Pulling fs layer \n",
      "\u001b[1BDigest: sha256:57e95b0ee82342cfaf9f43a863ae7c9a2a9b2004018c749482bdc9788e27961e\u001b[2K\u001b[29A\u001b[2K\u001b[29A\u001b[2K\u001b[29A\u001b[2K\u001b[33A\u001b[2K\u001b[28A\u001b[2K\u001b[33A\u001b[2K\u001b[28A\u001b[2K\u001b[28A\u001b[2K\u001b[26A\u001b[2K\u001b[33A\u001b[2K\u001b[26A\u001b[2K\u001b[33A\u001b[2K\u001b[26A\u001b[2K\u001b[33A\u001b[2K\u001b[26A\u001b[2K\u001b[33A\u001b[2K\u001b[26A\u001b[2K\u001b[26A\u001b[2K\u001b[26A\u001b[2K\u001b[26A\u001b[2K\u001b[23A\u001b[2K\u001b[26A\u001b[2K\u001b[23A\u001b[2K\u001b[33A\u001b[2K\u001b[23A\u001b[2K\u001b[26A\u001b[2K\u001b[23A\u001b[2K\u001b[26A\u001b[2K\u001b[32A\u001b[2K\u001b[26A\u001b[2K\u001b[23A\u001b[2K\u001b[26A\u001b[2K\u001b[23A\u001b[2K\u001b[26A\u001b[2K\u001b[23A\u001b[2K\u001b[25A\u001b[2K\u001b[26A\u001b[2K\u001b[25A\u001b[2K\u001b[26A\u001b[2K\u001b[25A\u001b[2K\u001b[26A\u001b[2K\u001b[25A\u001b[2K\u001b[26A\u001b[2K\u001b[26A\u001b[2K\u001b[25A\u001b[2K\u001b[26A\u001b[2K\u001b[25A\u001b[2K\u001b[29A\u001b[2K\u001b[25A\u001b[2K\u001b[26A\u001b[2K\u001b[25A\u001b[2K\u001b[25A\u001b[2K\u001b[25A\u001b[2K\u001b[28A\u001b[2K\u001b[26A\u001b[2K\u001b[28A\u001b[2K\u001b[26A\u001b[2K\u001b[28A\u001b[2K\u001b[26A\u001b[2K\u001b[28A\u001b[2K\u001b[26A\u001b[2K\u001b[25A\u001b[2K\u001b[26A\u001b[2K\u001b[25A\u001b[2K\u001b[26A\u001b[2K\u001b[22A\u001b[2K\u001b[26A\u001b[2K\u001b[26A\u001b[2K\u001b[22A\u001b[2K\u001b[22A\u001b[2K\u001b[26A\u001b[2K\u001b[25A\u001b[2K\u001b[25A\u001b[2K\u001b[25A\u001b[2K\u001b[26A\u001b[2K\u001b[26A\u001b[2K\u001b[25A\u001b[2K\u001b[26A\u001b[2K\u001b[26A\u001b[2K\u001b[25A\u001b[2K\u001b[26A\u001b[2K\u001b[20A\u001b[2K\u001b[26A\u001b[2K\u001b[20A\u001b[2K\u001b[26A\u001b[2K\u001b[20A\u001b[2K\u001b[26A\u001b[2K\u001b[20A\u001b[2K\u001b[25A\u001b[2K\u001b[26A\u001b[2K\u001b[26A\u001b[2K\u001b[26A\u001b[2K\u001b[26A\u001b[2K\u001b[26A\u001b[2K\u001b[26A\u001b[2K\u001b[26A\u001b[2K\u001b[26A\u001b[2K\u001b[26A\u001b[2K\u001b[26A\u001b[2K\u001b[25A\u001b[2K\u001b[26A\u001b[2K\u001b[20A\u001b[2K\u001b[26A\u001b[2K\u001b[20A\u001b[2K\u001b[26A\u001b[2K\u001b[26A\u001b[2K\u001b[20A\u001b[2K\u001b[26A\u001b[2K\u001b[20A\u001b[2K\u001b[27A\u001b[2K\u001b[20A\u001b[2K\u001b[18A\u001b[2K\u001b[20A\u001b[2K\u001b[20A\u001b[2K\u001b[26A\u001b[2K\u001b[26A\u001b[2K\u001b[26A\u001b[2K\u001b[26A\u001b[2K\u001b[26A\u001b[2K\u001b[26A\u001b[2K\u001b[20A\u001b[2K\u001b[26A\u001b[2K\u001b[20A\u001b[2K\u001b[26A\u001b[2K\u001b[20A\u001b[2K\u001b[26A\u001b[2K\u001b[20A\u001b[2K\u001b[26A\u001b[2K\u001b[20A\u001b[2K\u001b[26A\u001b[2K\u001b[20A\u001b[2K\u001b[17A\u001b[2K\u001b[26A\u001b[2K\u001b[17A\u001b[2K\u001b[20A\u001b[2K\u001b[20A\u001b[2K\u001b[20A\u001b[2K\u001b[17A\u001b[2K\u001b[20A\u001b[2K\u001b[17A\u001b[2K\u001b[20A\u001b[2K\u001b[17A\u001b[2K\u001b[20A\u001b[2K\u001b[17A\u001b[2K\u001b[20A\u001b[2K\u001b[26A\u001b[2K\u001b[17A\u001b[2K\u001b[26A\u001b[2K\u001b[20A\u001b[2K\u001b[26A\u001b[2K\u001b[20A\u001b[2K\u001b[26A\u001b[2K\u001b[20A\u001b[2K\u001b[17A\u001b[2K\u001b[20A\u001b[2K\u001b[17A\u001b[2K\u001b[26A\u001b[2K\u001b[17A\u001b[2K\u001b[26A\u001b[2K\u001b[20A\u001b[2K\u001b[26A\u001b[2K\u001b[20A\u001b[2K\u001b[26A\u001b[2K\u001b[20A\u001b[2K\u001b[26A\u001b[2K\u001b[20A\u001b[2K\u001b[26A\u001b[2K\u001b[20A\u001b[2K\u001b[17A\u001b[2K\u001b[20A\u001b[2K\u001b[17A\u001b[2K\u001b[20A\u001b[2K\u001b[17A\u001b[2K\u001b[20A\u001b[2K\u001b[17A\u001b[2K\u001b[20A\u001b[2K\u001b[17A\u001b[2K\u001b[20A\u001b[2K\u001b[17A\u001b[2K\u001b[20A\u001b[2K\u001b[17A\u001b[2K\u001b[20A\u001b[2K\u001b[26A\u001b[2K\u001b[16A\u001b[2K\u001b[20A\u001b[2K\u001b[20A\u001b[2K\u001b[20A\u001b[2K\u001b[20A\u001b[2K\u001b[26A\u001b[2K\u001b[20A\u001b[2KDownloading  611.1MB/889.9MB\u001b[20A\u001b[2K\u001b[26A\u001b[2K\u001b[20A\u001b[2K\u001b[26A\u001b[2K\u001b[20A\u001b[2K\u001b[26A\u001b[2K\u001b[20A\u001b[2K\u001b[26A\u001b[2K\u001b[20A\u001b[2K\u001b[26A\u001b[2K\u001b[20A\u001b[2K\u001b[26A\u001b[2K\u001b[20A\u001b[2K\u001b[26A\u001b[2K\u001b[20A\u001b[2K\u001b[26A\u001b[2K\u001b[20A\u001b[2K\u001b[26A\u001b[2K\u001b[20A\u001b[2K\u001b[26A\u001b[2K\u001b[20A\u001b[2K\u001b[26A\u001b[2K\u001b[26A\u001b[2K\u001b[20A\u001b[2K\u001b[26A\u001b[2K\u001b[26A\u001b[2K\u001b[26A\u001b[2K\u001b[26A\u001b[2K\u001b[26A\u001b[2K\u001b[20A\u001b[2K\u001b[26A\u001b[2K\u001b[20A\u001b[2K\u001b[26A\u001b[2K\u001b[20A\u001b[2K\u001b[26A\u001b[2K\u001b[20A\u001b[2K\u001b[26A\u001b[2K\u001b[20A\u001b[2K\u001b[20A\u001b[2K\u001b[26A\u001b[2K\u001b[20A\u001b[2K\u001b[26A\u001b[2K\u001b[20A\u001b[2K\u001b[11A\u001b[2K\u001b[20A\u001b[2K\u001b[20A\u001b[2K\u001b[11A\u001b[2K\u001b[26A\u001b[2K\u001b[20A\u001b[2K\u001b[26A\u001b[2K\u001b[20A\u001b[2K\u001b[26A\u001b[2K\u001b[20A\u001b[2K\u001b[10A\u001b[2K\u001b[20A\u001b[2K\u001b[10A\u001b[2K\u001b[26A\u001b[2K\u001b[10A\u001b[2K\u001b[20A\u001b[2K\u001b[10A\u001b[2K\u001b[26A\u001b[2K\u001b[10A\u001b[2K\u001b[20A\u001b[2K\u001b[10A\u001b[2K\u001b[10A\u001b[2K\u001b[26A\u001b[2K\u001b[26A\u001b[2K\u001b[20A\u001b[2K\u001b[26A\u001b[2K\u001b[20A\u001b[2K\u001b[20A\u001b[2K\u001b[20A\u001b[2K\u001b[20A\u001b[2K\u001b[20A\u001b[2K\u001b[26A\u001b[2K\u001b[8A\u001b[2K\u001b[20A\u001b[2K\u001b[26A\u001b[2K\u001b[20A\u001b[2K\u001b[26A\u001b[2K\u001b[20A\u001b[2K\u001b[26A\u001b[2K\u001b[26A\u001b[2K\u001b[26A\u001b[2K\u001b[26A\u001b[2K\u001b[5A\u001b[2K\u001b[26A\u001b[2K\u001b[26A\u001b[2K\u001b[26A\u001b[2K\u001b[26A\u001b[2K\u001b[26A\u001b[2K\u001b[26A\u001b[2K\u001b[4A\u001b[2K\u001b[3A\u001b[2K\u001b[26A\u001b[2K\u001b[26A\u001b[2K\u001b[2A\u001b[2K\u001b[2A\u001b[2K\u001b[26A\u001b[2K\u001b[26A\u001b[2K\u001b[26A\u001b[2K\u001b[1A\u001b[2K\u001b[27A\u001b[2K\u001b[26A\u001b[2K\u001b[26A\u001b[2K\u001b[26A\u001b[2K\u001b[26A\u001b[2K\u001b[26A\u001b[2K\u001b[26A\u001b[2K\u001b[26A\u001b[2K\u001b[26A\u001b[2K\u001b[26A\u001b[2K\u001b[26A\u001b[2K\u001b[26A\u001b[2K\u001b[26A\u001b[2K\u001b[26A\u001b[2K\u001b[26A\u001b[2K\u001b[26A\u001b[2K\u001b[26A\u001b[2K\u001b[26A\u001b[2K\u001b[26A\u001b[2K\u001b[26A\u001b[2K\u001b[26A\u001b[2K\u001b[26A\u001b[2K\u001b[26A\u001b[2K\u001b[26A\u001b[2K\u001b[26A\u001b[2K\u001b[26A\u001b[2K\u001b[26A\u001b[2K\u001b[26A\u001b[2K\u001b[26A\u001b[2K\u001b[26A\u001b[2K\u001b[26A\u001b[2K\u001b[26A\u001b[2K\u001b[26A\u001b[2K\u001b[26A\u001b[2K\u001b[26A\u001b[2K\u001b[26A\u001b[2K\u001b[26A\u001b[2K\u001b[26A\u001b[2K\u001b[26A\u001b[2K\u001b[26A\u001b[2K\u001b[26A\u001b[2K\u001b[26A\u001b[2K\u001b[26A\u001b[2K\u001b[26A\u001b[2K\u001b[26A\u001b[2K\u001b[26A\u001b[2K\u001b[26A\u001b[2K\u001b[26A\u001b[2K\u001b[26A\u001b[2K\u001b[26A\u001b[2K\u001b[26A\u001b[2K\u001b[26A\u001b[2K\u001b[26A\u001b[2K\u001b[26A\u001b[2K\u001b[26A\u001b[2K\u001b[26A\u001b[2K\u001b[26A\u001b[2K\u001b[26A\u001b[2K\u001b[26A\u001b[2K\u001b[26A\u001b[2K\u001b[26A\u001b[2K\u001b[26A\u001b[2K\u001b[26A\u001b[2K\u001b[26A\u001b[2K\u001b[26A\u001b[2K\u001b[26A\u001b[2K\u001b[26A\u001b[2K\u001b[26A\u001b[2K\u001b[26A\u001b[2K\u001b[26A\u001b[2K\u001b[26A\u001b[2K\u001b[26A\u001b[2K\u001b[26A\u001b[2K\u001b[26A\u001b[2K\u001b[26A\u001b[2K\u001b[26A\u001b[2K\u001b[26A\u001b[2K\u001b[26A\u001b[2K\u001b[26A\u001b[2K\u001b[26A\u001b[2K\u001b[26A\u001b[2K\u001b[26A\u001b[2K\u001b[26A\u001b[2K\u001b[26A\u001b[2K\u001b[26A\u001b[2K\u001b[26A\u001b[2K\u001b[26A\u001b[2K\u001b[26A\u001b[2K\u001b[26A\u001b[2K\u001b[26A\u001b[2K\u001b[26A\u001b[2K\u001b[26A\u001b[2K\u001b[26A\u001b[2K\u001b[26A\u001b[2K\u001b[26A\u001b[2K\u001b[26A\u001b[2K\u001b[26A\u001b[2K\u001b[26A\u001b[2K\u001b[26A\u001b[2K\u001b[26A\u001b[2K\u001b[26A\u001b[2K\u001b[26A\u001b[2K\u001b[26A\u001b[2K\u001b[26A\u001b[2K\u001b[26A\u001b[2K\u001b[26A\u001b[2K\u001b[26A\u001b[2K\u001b[26A\u001b[2K\u001b[26A\u001b[2K\u001b[26A\u001b[2K\u001b[26A\u001b[2K\u001b[26A\u001b[2K\u001b[26A\u001b[2K\u001b[26A\u001b[2K\u001b[26A\u001b[2K\u001b[26A\u001b[2K\u001b[26A\u001b[2K\u001b[26A\u001b[2K\u001b[26A\u001b[2K\u001b[26A\u001b[2K\u001b[26A\u001b[2K\u001b[26A\u001b[2K\u001b[26A\u001b[2K\u001b[26A\u001b[2K\u001b[26A\u001b[2K\u001b[26A\u001b[2K\u001b[26A\u001b[2K\u001b[26A\u001b[2K\u001b[26A\u001b[2K\u001b[26A\u001b[2K\u001b[26A\u001b[2K\u001b[26A\u001b[2K\u001b[26A\u001b[2K\u001b[26A\u001b[2K\u001b[26A\u001b[2K\u001b[26A\u001b[2K\u001b[26A\u001b[2K\u001b[26A\u001b[2K\u001b[26A\u001b[2K\u001b[26A\u001b[2K\u001b[26A\u001b[2K\u001b[26A\u001b[2K\u001b[26A\u001b[2K\u001b[26A\u001b[2K\u001b[26A\u001b[2K\u001b[26A\u001b[2K\u001b[26A\u001b[2K\u001b[26A\u001b[2K\u001b[26A\u001b[2K\u001b[26A\u001b[2K\u001b[26A\u001b[2K\u001b[26A\u001b[2K\u001b[26A\u001b[2K\u001b[26A\u001b[2K\u001b[26A\u001b[2K\u001b[26A\u001b[2K\u001b[26A\u001b[2K\u001b[26A\u001b[2K\u001b[26A\u001b[2K\u001b[26A\u001b[2K\u001b[26A\u001b[2K\u001b[26A\u001b[2K\u001b[26A\u001b[2K\u001b[26A\u001b[2K\u001b[26A\u001b[2K\u001b[26A\u001b[2K\u001b[26A\u001b[2K\u001b[26A\u001b[2K\u001b[26A\u001b[2K\u001b[26A\u001b[2K\u001b[26A\u001b[2K\u001b[26A\u001b[2K\u001b[26A\u001b[2K\u001b[26A\u001b[2K\u001b[26A\u001b[2K\u001b[26A\u001b[2K\u001b[26A\u001b[2K\u001b[26A\u001b[2K\u001b[26A\u001b[2K\u001b[26A\u001b[2K\u001b[26A\u001b[2K\u001b[26A\u001b[2K\u001b[26A\u001b[2K\u001b[26A\u001b[2K\u001b[26A\u001b[2K\u001b[26A\u001b[2K\u001b[26A\u001b[2K\u001b[26A\u001b[2K\u001b[26A\u001b[2K\u001b[26A\u001b[2K\u001b[26A\u001b[2K\u001b[25A\u001b[2K\u001b[25A\u001b[2K\u001b[25A\u001b[2K\u001b[25A\u001b[2K\u001b[25A\u001b[2K\u001b[25A\u001b[2K\u001b[25A\u001b[2K\u001b[25A\u001b[2K\u001b[25A\u001b[2K\u001b[25A\u001b[2K\u001b[25A\u001b[2K\u001b[25A\u001b[2K\u001b[25A\u001b[2K\u001b[25A\u001b[2K\u001b[25A\u001b[2K\u001b[25A\u001b[2K\u001b[25A\u001b[2K\u001b[25A\u001b[2K\u001b[25A\u001b[2K\u001b[25A\u001b[2K\u001b[25A\u001b[2K\u001b[25A\u001b[2K\u001b[25A\u001b[2K\u001b[25A\u001b[2K\u001b[25A\u001b[2K\u001b[25A\u001b[2K\u001b[25A\u001b[2K\u001b[25A\u001b[2K\u001b[25A\u001b[2K\u001b[24A\u001b[2K\u001b[24A\u001b[2K\u001b[23A\u001b[2K\u001b[23A\u001b[2K\u001b[23A\u001b[2K\u001b[23A\u001b[2K\u001b[23A\u001b[2K\u001b[23A\u001b[2K\u001b[23A\u001b[2K\u001b[23A\u001b[2K\u001b[23A\u001b[2K\u001b[23A\u001b[2K\u001b[23A\u001b[2K\u001b[23A\u001b[2K\u001b[23A\u001b[2K\u001b[23A\u001b[2K\u001b[22A\u001b[2K\u001b[22A\u001b[2K\u001b[22A\u001b[2K\u001b[22A\u001b[2K\u001b[22A\u001b[2K\u001b[22A\u001b[2K\u001b[21A\u001b[2K\u001b[20A\u001b[2K\u001b[20A\u001b[2K\u001b[20A\u001b[2K\u001b[20A\u001b[2K\u001b[20A\u001b[2K\u001b[20A\u001b[2K\u001b[20A\u001b[2K\u001b[20A\u001b[2K\u001b[20A\u001b[2K\u001b[20A\u001b[2K\u001b[20A\u001b[2K\u001b[20A\u001b[2K\u001b[20A\u001b[2K\u001b[20A\u001b[2K\u001b[20A\u001b[2K\u001b[20A\u001b[2K\u001b[20A\u001b[2K\u001b[20A\u001b[2K\u001b[20A\u001b[2K\u001b[20A\u001b[2K\u001b[20A\u001b[2K\u001b[20A\u001b[2K\u001b[20A\u001b[2K\u001b[20A\u001b[2K\u001b[20A\u001b[2K\u001b[20A\u001b[2K\u001b[20A\u001b[2K\u001b[20A\u001b[2K\u001b[20A\u001b[2K\u001b[20A\u001b[2K\u001b[20A\u001b[2K\u001b[20A\u001b[2K\u001b[20A\u001b[2K\u001b[20A\u001b[2K\u001b[20A\u001b[2K\u001b[20A\u001b[2K\u001b[20A\u001b[2K\u001b[20A\u001b[2K\u001b[20A\u001b[2K\u001b[20A\u001b[2K\u001b[20A\u001b[2K\u001b[20A\u001b[2K\u001b[20A\u001b[2K\u001b[20A\u001b[2K\u001b[20A\u001b[2K\u001b[20A\u001b[2K\u001b[20A\u001b[2K\u001b[20A\u001b[2K\u001b[20A\u001b[2K\u001b[20A\u001b[2K\u001b[20A\u001b[2K\u001b[20A\u001b[2KExtracting  118.1MB/589.5MB\u001b[20A\u001b[2K\u001b[20A\u001b[2K\u001b[20A\u001b[2K\u001b[20A\u001b[2K\u001b[20A\u001b[2K\u001b[20A\u001b[2K\u001b[20A\u001b[2K\u001b[20A\u001b[2K\u001b[20A\u001b[2K\u001b[20A\u001b[2K\u001b[20A\u001b[2K\u001b[20A\u001b[2K\u001b[20A\u001b[2K\u001b[20A\u001b[2K\u001b[20A\u001b[2K\u001b[20A\u001b[2K\u001b[20A\u001b[2K\u001b[20A\u001b[2K\u001b[20A\u001b[2K\u001b[20A\u001b[2K\u001b[20A\u001b[2K\u001b[20A\u001b[2K\u001b[20A\u001b[2K\u001b[20A\u001b[2K\u001b[20A\u001b[2K\u001b[20A\u001b[2K\u001b[20A\u001b[2K\u001b[20A\u001b[2K\u001b[20A\u001b[2K\u001b[20A\u001b[2K\u001b[20A\u001b[2K\u001b[20A\u001b[2K\u001b[20A\u001b[2K\u001b[20A\u001b[2K\u001b[20A\u001b[2K\u001b[20A\u001b[2K\u001b[20A\u001b[2K\u001b[20A\u001b[2K\u001b[20A\u001b[2K\u001b[20A\u001b[2K\u001b[20A\u001b[2K\u001b[20A\u001b[2K\u001b[20A\u001b[2K\u001b[20A\u001b[2K\u001b[20A\u001b[2K\u001b[20A\u001b[2K\u001b[20A\u001b[2K\u001b[20A\u001b[2K\u001b[20A\u001b[2K\u001b[20A\u001b[2K\u001b[20A\u001b[2K\u001b[20A\u001b[2K\u001b[20A\u001b[2K\u001b[20A\u001b[2K\u001b[20A\u001b[2K\u001b[20A\u001b[2K\u001b[20A\u001b[2K\u001b[20A\u001b[2K\u001b[20A\u001b[2K\u001b[20A\u001b[2K\u001b[20A\u001b[2K\u001b[20A\u001b[2K\u001b[20A\u001b[2K\u001b[20A\u001b[2K\u001b[20A\u001b[2K\u001b[20A\u001b[2K\u001b[20A\u001b[2K\u001b[20A\u001b[2K\u001b[20A\u001b[2K\u001b[20A\u001b[2K\u001b[20A\u001b[2K\u001b[20A\u001b[2K\u001b[20A\u001b[2K\u001b[20A\u001b[2K\u001b[20A\u001b[2K\u001b[20A\u001b[2K\u001b[20A\u001b[2K\u001b[20A\u001b[2K\u001b[20A\u001b[2K\u001b[20A\u001b[2K\u001b[20A\u001b[2K\u001b[20A\u001b[2K\u001b[20A\u001b[2K\u001b[20A\u001b[2K\u001b[20A\u001b[2K\u001b[20A\u001b[2K\u001b[20A\u001b[2K\u001b[20A\u001b[2K\u001b[20A\u001b[2K\u001b[20A\u001b[2K\u001b[20A\u001b[2K\u001b[20A\u001b[2K\u001b[20A\u001b[2K\u001b[20A\u001b[2K\u001b[20A\u001b[2K\u001b[20A\u001b[2K\u001b[20A\u001b[2K\u001b[20A\u001b[2K\u001b[20A\u001b[2K\u001b[20A\u001b[2K\u001b[20A\u001b[2K\u001b[20A\u001b[2K\u001b[20A\u001b[2K\u001b[20A\u001b[2K\u001b[20A\u001b[2K\u001b[20A\u001b[2K\u001b[20A\u001b[2K\u001b[20A\u001b[2K\u001b[20A\u001b[2K\u001b[20A\u001b[2K\u001b[20A\u001b[2K\u001b[20A\u001b[2K\u001b[20A\u001b[2K\u001b[20A\u001b[2K\u001b[20A\u001b[2K\u001b[20A\u001b[2K\u001b[20A\u001b[2K\u001b[20A\u001b[2K\u001b[20A\u001b[2K\u001b[20A\u001b[2K\u001b[20A\u001b[2K\u001b[20A\u001b[2K\u001b[20A\u001b[2K\u001b[20A\u001b[2K\u001b[20A\u001b[2K\u001b[20A\u001b[2K\u001b[20A\u001b[2K\u001b[20A\u001b[2K\u001b[20A\u001b[2K\u001b[20A\u001b[2K\u001b[20A\u001b[2K\u001b[20A\u001b[2K\u001b[20A\u001b[2K\u001b[20A\u001b[2K\u001b[20A\u001b[2K\u001b[20A\u001b[2K\u001b[20A\u001b[2K\u001b[20A\u001b[2K\u001b[19A\u001b[2K\u001b[18A\u001b[2K\u001b[17A\u001b[2K\u001b[17A\u001b[2K\u001b[17A\u001b[2K\u001b[17A\u001b[2K\u001b[17A\u001b[2K\u001b[17A\u001b[2K\u001b[17A\u001b[2K\u001b[17A\u001b[2K\u001b[17A\u001b[2K\u001b[17A\u001b[2K\u001b[17A\u001b[2K\u001b[17A\u001b[2K\u001b[17A\u001b[2K\u001b[17A\u001b[2K\u001b[17A\u001b[2K\u001b[17A\u001b[2K\u001b[17A\u001b[2K\u001b[17A\u001b[2K\u001b[17A\u001b[2K\u001b[17A\u001b[2K\u001b[17A\u001b[2K\u001b[17A\u001b[2K\u001b[17A\u001b[2K\u001b[16A\u001b[2K\u001b[16A\u001b[2K\u001b[16A\u001b[2K\u001b[16A\u001b[2K\u001b[15A\u001b[2K\u001b[14A\u001b[2K\u001b[13A\u001b[2K\u001b[13A\u001b[2K\u001b[12A\u001b[2K\u001b[11A\u001b[2K\u001b[11A\u001b[2K\u001b[10A\u001b[2K\u001b[10A\u001b[2K\u001b[10A\u001b[2K\u001b[10A\u001b[2K\u001b[10A\u001b[2K\u001b[10A\u001b[2K\u001b[10A\u001b[2K\u001b[10A\u001b[2K\u001b[9A\u001b[2K\u001b[8A\u001b[2K\u001b[7A\u001b[2K\u001b[6A\u001b[2K\u001b[5A\u001b[2K\u001b[4A\u001b[2K\u001b[3A\u001b[2K\u001b[2A\u001b[2K\u001b[2A\u001b[2K\u001b[1A\u001b[2K\n",
      "Status: Downloaded newer image for tensorflow/tensorflow:2.2.0rc2-gpu-py3-jupyter\n",
      " ---> 7fdb30eac076\n",
      "Step 2/5 : RUN pip3 install sagemaker-training\n",
      " ---> Running in 2be470857487\n",
      "Collecting sagemaker-training\n",
      "  Downloading sagemaker_training-3.9.2.tar.gz (47 kB)\n",
      "Requirement already satisfied: numpy in /usr/local/lib/python3.6/dist-packages (from sagemaker-training) (1.18.2)\n",
      "Collecting boto3\n",
      "  Downloading boto3-1.17.98-py2.py3-none-any.whl (131 kB)\n",
      "Requirement already satisfied: six in /usr/local/lib/python3.6/dist-packages (from sagemaker-training) (1.14.0)\n",
      "Requirement already satisfied: pip in /usr/local/lib/python3.6/dist-packages (from sagemaker-training) (20.0.2)\n",
      "Collecting retrying>=1.3.3\n",
      "  Downloading retrying-1.3.3.tar.gz (10 kB)\n",
      "Collecting gevent\n",
      "  Downloading gevent-21.1.2-cp36-cp36m-manylinux2010_x86_64.whl (5.5 MB)\n",
      "Collecting inotify_simple==1.2.1\n",
      "  Downloading inotify_simple-1.2.1.tar.gz (7.9 kB)\n",
      "Requirement already satisfied: werkzeug>=0.15.5 in /usr/local/lib/python3.6/dist-packages (from sagemaker-training) (1.0.0)\n",
      "Collecting paramiko>=2.4.2\n",
      "  Downloading paramiko-2.7.2-py2.py3-none-any.whl (206 kB)\n",
      "Collecting psutil>=5.6.7\n",
      "  Downloading psutil-5.8.0-cp36-cp36m-manylinux2010_x86_64.whl (291 kB)\n",
      "Requirement already satisfied: protobuf>=3.1 in /usr/local/lib/python3.6/dist-packages (from sagemaker-training) (3.11.3)\n",
      "Requirement already satisfied: scipy>=1.2.2 in /usr/local/lib/python3.6/dist-packages (from sagemaker-training) (1.4.1)\n",
      "Collecting jmespath<1.0.0,>=0.7.1\n",
      "  Downloading jmespath-0.10.0-py2.py3-none-any.whl (24 kB)\n",
      "Collecting s3transfer<0.5.0,>=0.4.0\n",
      "  Downloading s3transfer-0.4.2-py2.py3-none-any.whl (79 kB)\n",
      "Collecting botocore<1.21.0,>=1.20.98\n",
      "  Downloading botocore-1.20.98-py2.py3-none-any.whl (7.6 MB)\n",
      "Requirement already satisfied: setuptools in /usr/local/lib/python3.6/dist-packages (from gevent->sagemaker-training) (46.1.3)\n",
      "Collecting greenlet<2.0,>=0.4.17; platform_python_implementation == \"CPython\"\n",
      "  Downloading greenlet-1.1.0-cp36-cp36m-manylinux_2_17_x86_64.manylinux2014_x86_64.whl (155 kB)\n",
      "Collecting zope.event\n",
      "  Downloading zope.event-4.5.0-py2.py3-none-any.whl (6.8 kB)\n",
      "Collecting zope.interface\n",
      "  Downloading zope.interface-5.4.0-cp36-cp36m-manylinux2010_x86_64.whl (251 kB)\n",
      "Collecting cryptography>=2.5\n",
      "  Downloading cryptography-3.4.7-cp36-abi3-manylinux2014_x86_64.whl (3.2 MB)\n",
      "Collecting pynacl>=1.0.1\n",
      "  Downloading PyNaCl-1.4.0-cp35-abi3-manylinux1_x86_64.whl (961 kB)\n",
      "Collecting bcrypt>=3.1.3\n",
      "  Downloading bcrypt-3.2.0-cp36-abi3-manylinux2010_x86_64.whl (63 kB)\n",
      "Requirement already satisfied: urllib3<1.27,>=1.25.4 in /usr/local/lib/python3.6/dist-packages (from botocore<1.21.0,>=1.20.98->boto3->sagemaker-training) (1.25.8)\n",
      "Requirement already satisfied: python-dateutil<3.0.0,>=2.1 in /usr/local/lib/python3.6/dist-packages (from botocore<1.21.0,>=1.20.98->boto3->sagemaker-training) (2.8.1)\n",
      "Collecting cffi>=1.12\n",
      "  Downloading cffi-1.14.5-cp36-cp36m-manylinux1_x86_64.whl (401 kB)\n",
      "Collecting pycparser\n",
      "  Downloading pycparser-2.20-py2.py3-none-any.whl (112 kB)\n",
      "Building wheels for collected packages: sagemaker-training, retrying, inotify-simple\n",
      "  Building wheel for sagemaker-training (setup.py): started\n",
      "  Building wheel for sagemaker-training (setup.py): finished with status 'done'\n",
      "  Created wheel for sagemaker-training: filename=sagemaker_training-3.9.2-cp36-cp36m-linux_x86_64.whl size=77679 sha256=31bace4c46f2653cd1c8d2b63c5e75282472a1dc431f8eb4493f568876117649\n",
      "  Stored in directory: /root/.cache/pip/wheels/ca/af/7f/b0c816f1a4d39edcb3fa7d0f2da6c0ec6879143d586ac98e14\n",
      "  Building wheel for retrying (setup.py): started\n",
      "  Building wheel for retrying (setup.py): finished with status 'done'\n",
      "  Created wheel for retrying: filename=retrying-1.3.3-py3-none-any.whl size=9530 sha256=2fffaa156e5346e660f931c3fa821860fa4a963a175ae596a09b026aa9ae77d1\n",
      "  Stored in directory: /root/.cache/pip/wheels/ac/cb/8a/b27bf6323e2f4c462dcbf77d70b7c5e7868a7fbe12871770cf\n",
      "  Building wheel for inotify-simple (setup.py): started\n",
      "  Building wheel for inotify-simple (setup.py): finished with status 'done'\n",
      "  Created wheel for inotify-simple: filename=inotify_simple-1.2.1-py3-none-any.whl size=10083 sha256=a1d8dee1a3c4835861482157436774f2939cf57412b73fbf1789665a1d745378\n",
      "  Stored in directory: /root/.cache/pip/wheels/a5/34/f6/5d4eae9a326dc637344cd68353ddd119e9f6f575e925502888\n",
      "Successfully built sagemaker-training retrying inotify-simple\n",
      "Installing collected packages: jmespath, botocore, s3transfer, boto3, retrying, greenlet, zope.event, zope.interface, gevent, inotify-simple, pycparser, cffi, cryptography, pynacl, bcrypt, paramiko, psutil, sagemaker-training\n",
      "  Attempting uninstall: cryptography\n",
      "    Found existing installation: cryptography 2.1.4\n",
      "    Uninstalling cryptography-2.1.4:\n",
      "      Successfully uninstalled cryptography-2.1.4\n",
      "Successfully installed bcrypt-3.2.0 boto3-1.17.98 botocore-1.20.98 cffi-1.14.5 cryptography-3.4.7 gevent-21.1.2 greenlet-1.1.0 inotify-simple-1.2.1 jmespath-0.10.0 paramiko-2.7.2 psutil-5.8.0 pycparser-2.20 pynacl-1.4.0 retrying-1.3.3 s3transfer-0.4.2 sagemaker-training-3.9.2 zope.event-4.5.0 zope.interface-5.4.0\n",
      "\u001b[91mWARNING: You are using pip version 20.0.2; however, version 21.1.2 is available.\n",
      "You should consider upgrading via the '/usr/bin/python3 -m pip install --upgrade pip' command.\n",
      "\u001b[0mRemoving intermediate container 2be470857487\n",
      " ---> 8fc7dd317bda\n",
      "Step 3/5 : COPY train.py /opt/ml/code/train.py\n",
      " ---> aaf0f7af80f1\n",
      "Step 4/5 : COPY data /opt/ml/input\n",
      " ---> c148c819c110\n",
      "Step 5/5 : ENV SAGEMAKER_PROGRAM train.py\n",
      " ---> Running in 500b95ab94d1\n",
      "Removing intermediate container 500b95ab94d1\n",
      " ---> dfd740b2b4f6\n",
      "Successfully built dfd740b2b4f6\n",
      "Successfully tagged copying-ecr-expr2:latest\n",
      "Pushing image to ECR 743025358310.dkr.ecr.us-west-2.amazonaws.com/copying-ecr-expr2:20210623102923\n",
      "The push refers to repository [743025358310.dkr.ecr.us-west-2.amazonaws.com/copying-ecr-expr2]\n",
      "\n",
      "\u001b[1B46e93dbc: Preparing \n",
      "\u001b[1Be3a86c19: Preparing \n",
      "\u001b[1Bfd126481: Preparing \n",
      "\u001b[1Bf13cbfa8: Preparing \n",
      "\u001b[1B587d4838: Preparing \n",
      "\u001b[1B203aca2f: Preparing \n",
      "\u001b[1B02484779: Preparing \n",
      "\u001b[1B739c45e0: Preparing \n",
      "\u001b[1Be84ec372: Preparing \n",
      "\u001b[1Bd990c295: Preparing \n",
      "\u001b[1B6e679efa: Preparing \n",
      "\u001b[1B3bae6f96: Preparing \n",
      "\u001b[1B78c2d1ed: Preparing \n",
      "\u001b[1B49cf94fa: Preparing \n",
      "\u001b[1B34369f91: Preparing \n",
      "\u001b[1B73303de1: Preparing \n",
      "\u001b[1B78e9d77f: Preparing \n",
      "\u001b[1Bc7b4e5dd: Preparing \n",
      "\u001b[1B9d066446: Preparing \n",
      "\u001b[1B76aef71c: Preparing \n",
      "\u001b[1Bc82216a7: Preparing \n",
      "\u001b[1B8f69bcf2: Preparing \n",
      "\u001b[1B4c38336d: Preparing \n",
      "\u001b[1B39a56240: Preparing \n",
      "\u001b[1B3d7338a2: Preparing \n",
      "\u001b[1B697d112c: Preparing \n",
      "\u001b[1Bfe2ae5c7: Preparing \n",
      "\u001b[1B80d50750: Preparing \n",
      "\u001b[1B9003ee0f: Preparing \n",
      "\u001b[1Bd332a58a: Preparing \n",
      "\u001b[1Bf11cbf29: Preparing \n",
      "\u001b[1Ba4b22186: Preparing \n",
      "\u001b[1Bafb09dc3: Preparing \n",
      "\u001b[1Bb5a53aac: Preparing \n",
      "\u001b[1Bc8e5063e: Preparing \n",
      "\u001b[14Bc38336d: Pushed   1.768GB/1.756GB\u001b[33A\u001b[2K\u001b[32A\u001b[2K\u001b[36A\u001b[2K\u001b[34A\u001b[2K\u001b[34A\u001b[2K\u001b[34A\u001b[2K\u001b[35A\u001b[2K\u001b[31A\u001b[2K\u001b[34A\u001b[2K\u001b[36A\u001b[2K\u001b[32A\u001b[2K\u001b[29A\u001b[2K\u001b[28A\u001b[2K\u001b[31A\u001b[2K\u001b[34A\u001b[2K\u001b[27A\u001b[2K\u001b[30A\u001b[2K\u001b[29A\u001b[2K\u001b[26A\u001b[2K\u001b[25A\u001b[2K\u001b[28A\u001b[2K\u001b[34A\u001b[2K\u001b[34A\u001b[2K\u001b[23A\u001b[2K\u001b[34A\u001b[2K\u001b[34A\u001b[2K\u001b[24A\u001b[2K\u001b[23A\u001b[2K\u001b[34A\u001b[2K\u001b[23A\u001b[2K\u001b[34A\u001b[2K\u001b[23A\u001b[2K\u001b[34A\u001b[2K\u001b[23A\u001b[2K\u001b[34A\u001b[2K\u001b[23A\u001b[2K\u001b[24A\u001b[2K\u001b[34A\u001b[2K\u001b[24A\u001b[2K\u001b[34A\u001b[2K\u001b[24A\u001b[2K\u001b[34A\u001b[2K\u001b[34A\u001b[2K\u001b[34A\u001b[2K\u001b[34A\u001b[2K\u001b[24A\u001b[2K\u001b[34A\u001b[2K\u001b[21A\u001b[2K\u001b[24A\u001b[2K\u001b[34A\u001b[2K\u001b[24A\u001b[2K\u001b[24A\u001b[2K\u001b[24A\u001b[2K\u001b[24A\u001b[2K\u001b[34A\u001b[2K\u001b[23A\u001b[2K\u001b[34A\u001b[2K\u001b[20A\u001b[2K\u001b[34A\u001b[2K\u001b[19A\u001b[2K\u001b[34A\u001b[2K\u001b[18A\u001b[2K\u001b[20A\u001b[2K\u001b[34A\u001b[2K\u001b[34A\u001b[2K\u001b[16A\u001b[2K\u001b[17A\u001b[2K\u001b[34A\u001b[2K\u001b[34A\u001b[2K\u001b[34A\u001b[2K\u001b[17A\u001b[2K\u001b[34A\u001b[2K\u001b[18A\u001b[2K\u001b[17A\u001b[2K\u001b[15A\u001b[2K\u001b[17A\u001b[2K\u001b[17A\u001b[2K\u001b[34A\u001b[2K\u001b[17A\u001b[2K\u001b[16A\u001b[2K\u001b[17A\u001b[2K\u001b[34A\u001b[2K\u001b[17A\u001b[2K\u001b[34A\u001b[2K\u001b[17A\u001b[2K\u001b[34A\u001b[2K\u001b[17A\u001b[2K\u001b[34A\u001b[2K\u001b[14A\u001b[2K\u001b[34A\u001b[2K\u001b[17A\u001b[2K\u001b[17A\u001b[2K\u001b[15A\u001b[2K\u001b[13A\u001b[2K\u001b[14A\u001b[2K\u001b[17A\u001b[2K\u001b[14A\u001b[2K\u001b[17A\u001b[2K\u001b[17A\u001b[2K\u001b[12A\u001b[2K\u001b[17A\u001b[2K\u001b[14A\u001b[2K\u001b[12A\u001b[2K\u001b[13A\u001b[2K\u001b[14A\u001b[2K\u001b[17A\u001b[2K\u001b[14A\u001b[2K\u001b[17A\u001b[2K\u001b[14A\u001b[2K\u001b[12A\u001b[2K\u001b[14A\u001b[2K\u001b[12A\u001b[2K\u001b[17A\u001b[2K\u001b[12A\u001b[2K\u001b[14A\u001b[2K\u001b[17A\u001b[2K\u001b[14A\u001b[2K\u001b[14A\u001b[2K\u001b[12A\u001b[2K\u001b[10A\u001b[2K\u001b[12A\u001b[2K\u001b[10A\u001b[2K\u001b[12A\u001b[2K\u001b[17A\u001b[2K\u001b[11A\u001b[2K\u001b[14A\u001b[2K\u001b[17A\u001b[2K\u001b[11A\u001b[2K\u001b[14A\u001b[2K\u001b[17A\u001b[2K\u001b[14A\u001b[2K\u001b[17A\u001b[2K\u001b[17A\u001b[2K\u001b[17A\u001b[2K\u001b[14A\u001b[2K\u001b[17A\u001b[2K\u001b[14A\u001b[2K\u001b[11A\u001b[2K\u001b[14A\u001b[2K\u001b[11A\u001b[2K\u001b[17A\u001b[2K\u001b[11A\u001b[2K\u001b[11A\u001b[2K\u001b[17A\u001b[2K\u001b[14A\u001b[2K\u001b[11A\u001b[2K\u001b[17A\u001b[2K\u001b[17A\u001b[2K\u001b[12A\u001b[2K\u001b[17A\u001b[2K\u001b[14A\u001b[2K\u001b[17A\u001b[2K\u001b[14A\u001b[2K\u001b[11A\u001b[2K\u001b[14A\u001b[2K\u001b[17A\u001b[2K\u001b[14A\u001b[2K\u001b[17A\u001b[2K\u001b[11A\u001b[2K\u001b[17A\u001b[2K\u001b[14A\u001b[2K\u001b[17A\u001b[2K\u001b[14A\u001b[2K\u001b[11A\u001b[2K\u001b[14A\u001b[2K\u001b[11A\u001b[2K\u001b[9A\u001b[2K\u001b[14A\u001b[2K\u001b[9A\u001b[2K\u001b[11A\u001b[2K\u001b[9A\u001b[2K\u001b[14A\u001b[2K\u001b[8A\u001b[2K\u001b[11A\u001b[2K\u001b[9A\u001b[2K\u001b[11A\u001b[2K\u001b[9A\u001b[2K\u001b[11A\u001b[2K\u001b[14A\u001b[2K\u001b[11A\u001b[2K\u001b[9A\u001b[2K\u001b[11A\u001b[2K\u001b[9A\u001b[2K\u001b[17A\u001b[2K\u001b[9A\u001b[2K\u001b[11A\u001b[2K\u001b[9A\u001b[2K\u001b[8A\u001b[2K\u001b[17A\u001b[2K\u001b[14A\u001b[2K\u001b[11A\u001b[2K\u001b[17A\u001b[2K\u001b[11A\u001b[2K\u001b[17A\u001b[2K\u001b[9A\u001b[2K\u001b[17A\u001b[2K\u001b[8A\u001b[2K\u001b[17A\u001b[2K\u001b[9A\u001b[2K\u001b[11A\u001b[2K\u001b[17A\u001b[2K\u001b[14A\u001b[2K\u001b[11A\u001b[2K\u001b[9A\u001b[2K\u001b[9A\u001b[2K\u001b[11A\u001b[2K\u001b[9A\u001b[2K\u001b[11A\u001b[2K\u001b[9A\u001b[2K\u001b[11A\u001b[2K\u001b[8A\u001b[2K\u001b[9A\u001b[2K\u001b[14A\u001b[2K\u001b[17A\u001b[2K\u001b[11A\u001b[2K\u001b[14A\u001b[2K\u001b[14A\u001b[2K\u001b[9A\u001b[2K\u001b[14A\u001b[2K\u001b[8A\u001b[2K\u001b[14A\u001b[2K\u001b[9A\u001b[2K\u001b[8A\u001b[2K\u001b[14A\u001b[2K\u001b[8A\u001b[2K\u001b[11A\u001b[2K\u001b[9A\u001b[2K\u001b[11A\u001b[2K\u001b[14A\u001b[2K\u001b[9A\u001b[2K\u001b[14A\u001b[2K\u001b[9A\u001b[2K\u001b[11A\u001b[2K\u001b[9A\u001b[2K\u001b[11A\u001b[2K\u001b[9A\u001b[2K\u001b[17A\u001b[2K\u001b[9A\u001b[2K\u001b[11A\u001b[2K\u001b[9A\u001b[2K\u001b[17A\u001b[2K\u001b[11A\u001b[2K\u001b[17A\u001b[2K\u001b[11A\u001b[2K\u001b[8A\u001b[2K\u001b[14A\u001b[2K\u001b[17A\u001b[2K\u001b[8A\u001b[2K\u001b[11A\u001b[2K\u001b[14A\u001b[2K\u001b[8A\u001b[2K\u001b[9A\u001b[2K\u001b[8A\u001b[2K\u001b[11A\u001b[2K\u001b[9A\u001b[2K\u001b[17A\u001b[2K\u001b[17A\u001b[2K\u001b[11A\u001b[2K\u001b[17A\u001b[2K\u001b[11A\u001b[2K\u001b[8A\u001b[2K\u001b[8A\u001b[2K\u001b[17A\u001b[2K\u001b[11A\u001b[2K\u001b[9A\u001b[2K\u001b[17A\u001b[2K\u001b[11A\u001b[2K\u001b[14A\u001b[2K\u001b[11A\u001b[2K\u001b[11A\u001b[2K\u001b[8A\u001b[2K\u001b[17A\u001b[2K\u001b[9A\u001b[2K\u001b[11A\u001b[2K\u001b[9A\u001b[2K\u001b[17A\u001b[2K\u001b[11A\u001b[2K\u001b[8A\u001b[2K\u001b[11A\u001b[2K\u001b[11A\u001b[2K\u001b[9A\u001b[2K\u001b[17A\u001b[2K\u001b[9A\u001b[2K\u001b[14A\u001b[2K\u001b[9A\u001b[2K\u001b[11A\u001b[2K\u001b[9A\u001b[2K\u001b[11A\u001b[2K\u001b[17A\u001b[2K\u001b[9A\u001b[2K\u001b[11A\u001b[2K\u001b[8A\u001b[2K\u001b[11A\u001b[2K\u001b[9A\u001b[2K\u001b[11A\u001b[2K\u001b[17A\u001b[2K\u001b[11A\u001b[2K\u001b[9A\u001b[2K\u001b[11A\u001b[2K\u001b[17A\u001b[2K\u001b[11A\u001b[2K\u001b[9A\u001b[2K\u001b[17A\u001b[2K\u001b[9A\u001b[2K\u001b[17A\u001b[2K\u001b[8A\u001b[2K\u001b[9A\u001b[2K\u001b[11A\u001b[2K\u001b[17A\u001b[2K\u001b[17A\u001b[2K\u001b[9A\u001b[2K\u001b[17A\u001b[2K\u001b[11A\u001b[2K\u001b[17A\u001b[2K\u001b[9A\u001b[2K\u001b[9A\u001b[2K\u001b[17A\u001b[2K\u001b[9A\u001b[2K\u001b[17A\u001b[2K\u001b[9A\u001b[2K\u001b[14A\u001b[2K\u001b[17A\u001b[2K\u001b[9A\u001b[2K\u001b[17A\u001b[2K\u001b[9A\u001b[2K\u001b[11A\u001b[2K\u001b[9A\u001b[2K\u001b[8A\u001b[2K\u001b[9A\u001b[2K\u001b[8A\u001b[2K\u001b[14A\u001b[2K\u001b[9A\u001b[2K\u001b[14A\u001b[2K\u001b[17A\u001b[2K\u001b[11A\u001b[2K\u001b[14A\u001b[2K\u001b[8A\u001b[2K\u001b[9A\u001b[2K\u001b[8A\u001b[2K\u001b[9A\u001b[2K\u001b[17A\u001b[2K\u001b[9A\u001b[2K\u001b[8A\u001b[2K\u001b[9A\u001b[2K\u001b[14A\u001b[2K\u001b[11A\u001b[2K\u001b[9A\u001b[2K\u001b[11A\u001b[2K\u001b[8A\u001b[2K\u001b[11A\u001b[2K\u001b[8A\u001b[2K\u001b[9A\u001b[2K\u001b[11A\u001b[2K\u001b[14A\u001b[2K\u001b[11A\u001b[2K\u001b[14A\u001b[2K\u001b[9A\u001b[2K\u001b[14A\u001b[2K\u001b[11A\u001b[2K\u001b[8A\u001b[2K\u001b[11A\u001b[2K\u001b[8A\u001b[2K\u001b[9A\u001b[2K\u001b[14A\u001b[2K\u001b[9A\u001b[2K\u001b[8A\u001b[2K\u001b[17A\u001b[2K\u001b[9A\u001b[2K\u001b[8A\u001b[2K\u001b[17A\u001b[2K\u001b[14A\u001b[2K\u001b[9A\u001b[2K\u001b[14A\u001b[2K\u001b[8A\u001b[2K\u001b[17A\u001b[2K\u001b[14A\u001b[2K\u001b[8A\u001b[2K\u001b[14A\u001b[2K\u001b[8A\u001b[2K\u001b[14A\u001b[2K\u001b[17A\u001b[2K\u001b[17A\u001b[2K\u001b[9A\u001b[2K\u001b[11A\u001b[2K\u001b[8A\u001b[2K\u001b[11A\u001b[2K\u001b[9A\u001b[2K\u001b[17A\u001b[2K\u001b[9A\u001b[2K\u001b[17A\u001b[2K\u001b[8A\u001b[2K\u001b[9A\u001b[2K\u001b[8A\u001b[2K\u001b[14A\u001b[2K\u001b[9A\u001b[2K\u001b[8A\u001b[2K\u001b[17A\u001b[2K\u001b[8A\u001b[2K\u001b[9A\u001b[2K\u001b[11A\u001b[2K\u001b[8A\u001b[2K\u001b[11A\u001b[2K\u001b[17A\u001b[2K\u001b[9A\u001b[2K\u001b[11A\u001b[2K\u001b[8A\u001b[2K\u001b[9A\u001b[2K\u001b[14A\u001b[2K\u001b[9A\u001b[2K\u001b[8A\u001b[2K\u001b[11A\u001b[2K\u001b[17A\u001b[2K\u001b[8A\u001b[2K\u001b[11A\u001b[2K\u001b[8A\u001b[2K\u001b[8A\u001b[2K\u001b[14A\u001b[2K\u001b[11A\u001b[2K\u001b[9A\u001b[2K\u001b[8A\u001b[2K\u001b[11A\u001b[2K\u001b[9A\u001b[2K\u001b[11A\u001b[2K\u001b[8A\u001b[2K\u001b[14A\u001b[2K\u001b[8A\u001b[2K\u001b[9A\u001b[2K\u001b[17A\u001b[2K\u001b[8A\u001b[2K\u001b[8A\u001b[2K\u001b[17A\u001b[2K\u001b[8A\u001b[2K\u001b[11A\u001b[2K\u001b[14A\u001b[2K\u001b[11A\u001b[2K\u001b[14A\u001b[2K\u001b[8A\u001b[2K\u001b[17A\u001b[2K\u001b[14A\u001b[2K\u001b[11A\u001b[2K\u001b[9A\u001b[2K\u001b[14A\u001b[2K\u001b[9A\u001b[2K\u001b[8A\u001b[2K\u001b[11A\u001b[2K\u001b[8A\u001b[2K\u001b[14A\u001b[2K\u001b[11A\u001b[2K\u001b[11A\u001b[2K\u001b[17A\u001b[2K\u001b[8A\u001b[2K\u001b[14A\u001b[2K\u001b[11A\u001b[2K\u001b[9A\u001b[2K\u001b[11A\u001b[2K\u001b[17A\u001b[2K\u001b[11A\u001b[2K\u001b[9A\u001b[2K\u001b[9A\u001b[2K\u001b[8A\u001b[2K\u001b[9A\u001b[2K\u001b[17A\u001b[2K\u001b[8A\u001b[2K\u001b[11A\u001b[2K\u001b[8A\u001b[2K\u001b[17A\u001b[2K\u001b[9A\u001b[2K\u001b[17A\u001b[2K\u001b[9A\u001b[2K\u001b[17A\u001b[2K\u001b[9A\u001b[2K\u001b[17A\u001b[2K\u001b[8A\u001b[2K\u001b[9A\u001b[2K\u001b[17A\u001b[2K\u001b[9A\u001b[2K\u001b[14A\u001b[2K\u001b[9A\u001b[2K\u001b[8A\u001b[2K\u001b[9A\u001b[2K\u001b[14A\u001b[2K\u001b[8A\u001b[2K\u001b[11A\u001b[2K\u001b[14A\u001b[2K\u001b[9A\u001b[2K\u001b[14A\u001b[2K\u001b[9A\u001b[2K\u001b[9A\u001b[2K\u001b[8A\u001b[2K\u001b[9A\u001b[2K\u001b[14A\u001b[2K\u001b[9A\u001b[2K\u001b[8A\u001b[2K\u001b[9A\u001b[2K\u001b[7A\u001b[2K\u001b[14A\u001b[2K\u001b[6A\u001b[2K\u001b[14A\u001b[2K\u001b[6A\u001b[2K\u001b[8A\u001b[2K\u001b[6A\u001b[2K\u001b[6A\u001b[2K\u001b[6A\u001b[2K\u001b[14A\u001b[2K\u001b[6A\u001b[2K\u001b[14A\u001b[2K\u001b[6A\u001b[2K\u001b[14A\u001b[2K\u001b[6A\u001b[2K\u001b[7A\u001b[2K\u001b[6A\u001b[2K\u001b[14A\u001b[2K\u001b[8A\u001b[2K\u001b[14A\u001b[2K\u001b[8A\u001b[2K\u001b[8A\u001b[2K\u001b[14A\u001b[2K\u001b[8A\u001b[2K\u001b[6A\u001b[2K\u001b[9A\u001b[2K\u001b[5A\u001b[2K\u001b[14A\u001b[2K\u001b[8A\u001b[2K\u001b[5A\u001b[2K\u001b[14A\u001b[2K\u001b[4A\u001b[2K\u001b[14A\u001b[2K\u001b[5A\u001b[2K\u001b[14A\u001b[2K\u001b[5A\u001b[2K\u001b[14A\u001b[2K\u001b[5A\u001b[2K\u001b[8A\u001b[2K\u001b[5A\u001b[2K\u001b[14A\u001b[2K\u001b[8A\u001b[2K\u001b[5A\u001b[2K\u001b[14A\u001b[2K\u001b[5A\u001b[2K\u001b[8A\u001b[2K\u001b[14A\u001b[2K\u001b[5A\u001b[2K\u001b[8A\u001b[2K\u001b[5A\u001b[2K\u001b[14A\u001b[2K\u001b[8A\u001b[2K\u001b[5A\u001b[2K\u001b[14A\u001b[2K\u001b[5A\u001b[2K\u001b[5A\u001b[2K\u001b[5A\u001b[2K\u001b[14A\u001b[2K\u001b[5A\u001b[2K\u001b[8A\u001b[2K\u001b[8A\u001b[2K\u001b[3A\u001b[2K\u001b[8A\u001b[2K\u001b[8A\u001b[2K\u001b[3A\u001b[2K\u001b[8A\u001b[2K\u001b[14A\u001b[2K\u001b[8A\u001b[2K\u001b[14A\u001b[2K\u001b[8A\u001b[2K\u001b[14A\u001b[2K\u001b[8A\u001b[2K\u001b[14A\u001b[2K\u001b[14A\u001b[2K\u001b[8A\u001b[2K\u001b[14A\u001b[2K\u001b[8A\u001b[2K\u001b[8A\u001b[2K\u001b[8A\u001b[2K\u001b[14A\u001b[2K\u001b[8A\u001b[2K\u001b[14A\u001b[2K\u001b[8A\u001b[2K\u001b[14A\u001b[2K\u001b[8A\u001b[2K\u001b[5A\u001b[2K\u001b[2A\u001b[2K\u001b[2A\u001b[2K\u001b[8A\u001b[2K\u001b[8A\u001b[2K\u001b[1A\u001b[2K\u001b[8A\u001b[2K\u001b[1A\u001b[2K\u001b[8A\u001b[2K\u001b[1A\u001b[2K\u001b[8A\u001b[2K\u001b[8A\u001b[2K\u001b[2A\u001b[2K\u001b[14A\u001b[2K\u001b[14A\u001b[2K\u001b[8A\u001b[2K\u001b[1A\u001b[2K\u001b[1A\u001b[2K\u001b[8A\u001b[2K\u001b[1A\u001b[2K\u001b[1A\u001b[2K\u001b[1A\u001b[2K\u001b[8A\u001b[2K\u001b[1A\u001b[2K\u001b[8A\u001b[2K\u001b[14A\u001b[2K\u001b[1A\u001b[2K\u001b[14A\u001b[2K\u001b[8A\u001b[2K\u001b[1A\u001b[2K\u001b[8A\u001b[2K\u001b[1A\u001b[2K\u001b[14A\u001b[2K\u001b[8A\u001b[2K\u001b[1A\u001b[2K\u001b[8A\u001b[2K\u001b[14A\u001b[2K\u001b[8A\u001b[2K\u001b[1A\u001b[2K\u001b[8A\u001b[2K\u001b[1A\u001b[2K\u001b[14A\u001b[2K\u001b[8A\u001b[2K\u001b[1A\u001b[2K\u001b[1A\u001b[2K\u001b[14A\u001b[2K\u001b[8A\u001b[2K\u001b[14A\u001b[2K\u001b[8A\u001b[2K\u001b[1A\u001b[2K\u001b[14A\u001b[2K\u001b[1A\u001b[2K\u001b[8A\u001b[2K\u001b[14A\u001b[2K\u001b[1A\u001b[2K\u001b[14A\u001b[2K\u001b[1A\u001b[2K\u001b[8A\u001b[2K\u001b[14A\u001b[2K\u001b[1A\u001b[2K\u001b[14A\u001b[2K\u001b[8A\u001b[2K\u001b[8A\u001b[2K\u001b[14A\u001b[2K\u001b[8A\u001b[2K\u001b[1A\u001b[2K\u001b[14A\u001b[2K\u001b[1A\u001b[2K\u001b[8A\u001b[2K\u001b[14A\u001b[2K\u001b[8A\u001b[2K\u001b[1A\u001b[2K\u001b[14A\u001b[2K\u001b[8A\u001b[2K\u001b[14A\u001b[2K\u001b[8A\u001b[2K\u001b[1A\u001b[2K\u001b[8A\u001b[2K\u001b[14A\u001b[2K\u001b[8A\u001b[2K\u001b[1A\u001b[2K\u001b[8A\u001b[2K\u001b[1A\u001b[2K\u001b[8A\u001b[2K\u001b[1A\u001b[2K\u001b[8A\u001b[2K\u001b[1A\u001b[2K\u001b[8A\u001b[2K\u001b[1A\u001b[2K\u001b[8A\u001b[2K\u001b[1A\u001b[2K\u001b[8A\u001b[2K\u001b[1A\u001b[2K\u001b[1A\u001b[2K\u001b[8A\u001b[2K\u001b[8A\u001b[2K\u001b[8A\u001b[2K\u001b[14A\u001b[2K\u001b[1A\u001b[2K\u001b[14A\u001b[2K\u001b[8A\u001b[2K\u001b[14A\u001b[2K\u001b[14A\u001b[2K\u001b[1A\u001b[2K\u001b[8A\u001b[2K\u001b[8A\u001b[2K\u001b[14A\u001b[2K\u001b[8A\u001b[2K\u001b[1A\u001b[2K\u001b[8A\u001b[2K\u001b[14A\u001b[2K\u001b[8A\u001b[2K\u001b[8A\u001b[2K\u001b[8A\u001b[2K\u001b[8A\u001b[2K\u001b[14A\u001b[2K\u001b[8A\u001b[2K\u001b[1A\u001b[2K\u001b[8A\u001b[2K\u001b[14A\u001b[2K\u001b[1A\u001b[2K\u001b[8A\u001b[2K\u001b[1A\u001b[2K\u001b[14A\u001b[2K\u001b[8A\u001b[2K\u001b[8A\u001b[2K\u001b[14A\u001b[2K\u001b[8A\u001b[2K\u001b[8A\u001b[2K\u001b[1A\u001b[2K\u001b[8A\u001b[2K\u001b[1A\u001b[2K\u001b[8A\u001b[2K\u001b[14A\u001b[2K\u001b[1A\u001b[2K\u001b[8A\u001b[2K\u001b[1A\u001b[2K\u001b[14A\u001b[2K\u001b[8A\u001b[2K\u001b[14A\u001b[2K\u001b[1A\u001b[2K\u001b[1A\u001b[2K\u001b[8A\u001b[2K\u001b[8A\u001b[2K\u001b[14A\u001b[2K\u001b[8A\u001b[2K\u001b[14A\u001b[2K\u001b[8A\u001b[2K\u001b[14A\u001b[2K\u001b[8A\u001b[2K\u001b[14A\u001b[2K\u001b[8A\u001b[2K\u001b[14A\u001b[2K\u001b[8A\u001b[2K\u001b[8A\u001b[2K\u001b[14A\u001b[2K\u001b[8A\u001b[2K\u001b[14A\u001b[2K\u001b[8A\u001b[2K\u001b[14A\u001b[2K\u001b[8A\u001b[2K\u001b[14A\u001b[2K\u001b[8A\u001b[2K\u001b[8A\u001b[2K\u001b[1A\u001b[2K\u001b[14A\u001b[2K\u001b[14A\u001b[2K\u001b[8A\u001b[2K\u001b[14A\u001b[2K\u001b[14A\u001b[2K\u001b[14A\u001b[2K\u001b[8A\u001b[2K\u001b[14A\u001b[2K\u001b[8A\u001b[2K\u001b[14A\u001b[2K\u001b[8A\u001b[2K\u001b[8A\u001b[2K\u001b[14A\u001b[2K\u001b[8A\u001b[2K\u001b[14A\u001b[2K\u001b[14A\u001b[2K\u001b[14A\u001b[2K\u001b[8A\u001b[2K\u001b[8A\u001b[2K\u001b[8A\u001b[2K\u001b[14A\u001b[2K\u001b[8A\u001b[2K\u001b[14A\u001b[2K\u001b[8A\u001b[2K\u001b[14A\u001b[2K\u001b[8A\u001b[2K\u001b[14A\u001b[2K\u001b[14A\u001b[2K\u001b[14A\u001b[2K\u001b[8A\u001b[2K\u001b[8A\u001b[2K\u001b[8A\u001b[2K\u001b[14A\u001b[2K\u001b[8A\u001b[2K\u001b[14A\u001b[2K\u001b[8A\u001b[2K\u001b[14A\u001b[2K\u001b[8A\u001b[2K\u001b[14A\u001b[2K\u001b[8A\u001b[2K\u001b[14A\u001b[2K\u001b[8A\u001b[2K\u001b[14A\u001b[2K\u001b[8A\u001b[2K\u001b[8A\u001b[2K\u001b[14A\u001b[2K\u001b[8A\u001b[2K\u001b[14A\u001b[2K\u001b[8A\u001b[2K\u001b[14A\u001b[2K\u001b[8A\u001b[2K\u001b[14A\u001b[2K\u001b[8A\u001b[2K\u001b[14A\u001b[2K\u001b[8A\u001b[2K\u001b[14A\u001b[2K\u001b[8A\u001b[2K\u001b[14A\u001b[2K\u001b[8A\u001b[2K\u001b[14A\u001b[2K\u001b[8A\u001b[2K\u001b[14A\u001b[2K\u001b[8A\u001b[2K\u001b[14A\u001b[2K\u001b[8A\u001b[2K\u001b[14A\u001b[2K\u001b[8A\u001b[2K\u001b[14A\u001b[2K\u001b[8A\u001b[2K\u001b[14A\u001b[2K\u001b[8A\u001b[2K\u001b[14A\u001b[2K\u001b[8A\u001b[2K\u001b[14A\u001b[2K\u001b[14A\u001b[2K\u001b[8A\u001b[2K\u001b[14A\u001b[2K\u001b[8A\u001b[2K\u001b[14A\u001b[2K\u001b[14A\u001b[2K\u001b[8A\u001b[2K\u001b[14A\u001b[2K\u001b[8A\u001b[2K\u001b[8A\u001b[2K\u001b[14A\u001b[2K\u001b[8A\u001b[2K\u001b[14A\u001b[2K\u001b[8A\u001b[2K\u001b[8A\u001b[2K\u001b[14A\u001b[2K\u001b[14A\u001b[2K\u001b[14A\u001b[2K\u001b[8A\u001b[2K\u001b[14A\u001b[2K\u001b[8A\u001b[2K\u001b[14A\u001b[2K\u001b[8A\u001b[2K\u001b[14A\u001b[2K\u001b[8A\u001b[2K\u001b[14A\u001b[2K\u001b[8A\u001b[2K\u001b[14A\u001b[2K\u001b[8A\u001b[2K\u001b[14A\u001b[2K\u001b[8A\u001b[2K\u001b[14A\u001b[2K\u001b[14A\u001b[2K\u001b[8A\u001b[2K\u001b[14A\u001b[2K\u001b[8A\u001b[2K\u001b[14A\u001b[2K\u001b[14A\u001b[2K\u001b[8A\u001b[2K\u001b[14A\u001b[2K\u001b[8A\u001b[2K\u001b[14A\u001b[2K\u001b[8A\u001b[2K\u001b[14A\u001b[2K\u001b[8A\u001b[2K\u001b[14A\u001b[2K\u001b[14A\u001b[2K\u001b[14A\u001b[2K\u001b[8A\u001b[2K\u001b[14A\u001b[2K\u001b[8A\u001b[2K\u001b[14A\u001b[2K\u001b[8A\u001b[2K\u001b[14A\u001b[2K\u001b[14A\u001b[2K\u001b[8A\u001b[2K\u001b[8A\u001b[2K\u001b[14A\u001b[2K\u001b[8A\u001b[2K\u001b[14A\u001b[2K\u001b[14A\u001b[2K\u001b[8A\u001b[2K\u001b[14A\u001b[2K\u001b[8A\u001b[2K\u001b[14A\u001b[2K\u001b[8A\u001b[2K\u001b[14A\u001b[2K\u001b[8A\u001b[2K\u001b[14A\u001b[2K\u001b[14A\u001b[2K\u001b[14A\u001b[2K\u001b[14A\u001b[2K\u001b[14A\u001b[2K\u001b[8A\u001b[2K\u001b[14A\u001b[2K\u001b[14A\u001b[2K\u001b[8A\u001b[2K\u001b[14A\u001b[2K\u001b[14A\u001b[2K\u001b[8A\u001b[2K\u001b[8A\u001b[2K\u001b[14A\u001b[2K\u001b[14A\u001b[2K\u001b[14A\u001b[2K\u001b[14A\u001b[2K\u001b[8A\u001b[2K\u001b[8A\u001b[2K\u001b[8A\u001b[2K\u001b[8A\u001b[2K\u001b[8A\u001b[2K\u001b[14A\u001b[2K\u001b[8A\u001b[2K\u001b[8A\u001b[2K\u001b[14A\u001b[2K\u001b[8A\u001b[2K\u001b[14A\u001b[2K\u001b[8A\u001b[2K\u001b[14A\u001b[2K\u001b[8A\u001b[2K\u001b[14A\u001b[2K\u001b[8A\u001b[2K\u001b[14A\u001b[2K\u001b[8A\u001b[2K\u001b[8A\u001b[2K\u001b[8A\u001b[2K\u001b[14A\u001b[2K\u001b[14A\u001b[2K\u001b[14A\u001b[2K\u001b[8A\u001b[2K\u001b[14A\u001b[2K\u001b[8A\u001b[2K\u001b[14A\u001b[2K\u001b[8A\u001b[2K\u001b[14A\u001b[2K\u001b[14A\u001b[2K\u001b[8A\u001b[2K\u001b[14A\u001b[2K\u001b[8A\u001b[2K\u001b[14A\u001b[2K\u001b[8A\u001b[2K\u001b[14A\u001b[2K\u001b[8A\u001b[2K\u001b[14A\u001b[2K\u001b[8A\u001b[2K\u001b[14A\u001b[2K\u001b[8A\u001b[2K\u001b[14A\u001b[2K\u001b[14A\u001b[2K\u001b[8A\u001b[2K\u001b[14A\u001b[2K\u001b[8A\u001b[2K\u001b[14A\u001b[2K\u001b[8A\u001b[2K\u001b[14A\u001b[2K\u001b[8A\u001b[2K\u001b[14A\u001b[2K\u001b[8A\u001b[2K\u001b[14A\u001b[2K\u001b[8A\u001b[2K\u001b[14A\u001b[2K\u001b[14A\u001b[2K\u001b[14A\u001b[2K\u001b[8A\u001b[2K\u001b[14A\u001b[2K\u001b[8A\u001b[2K\u001b[14A\u001b[2K\u001b[8A\u001b[2K\u001b[14A\u001b[2K\u001b[8A\u001b[2K\u001b[14A\u001b[2K\u001b[8A\u001b[2K\u001b[14A\u001b[2K\u001b[8A\u001b[2K\u001b[14A\u001b[2K\u001b[8A\u001b[2K\u001b[14A\u001b[2K\u001b[8A\u001b[2K\u001b[14A\u001b[2K\u001b[8A\u001b[2K\u001b[14A\u001b[2K\u001b[8A\u001b[2K\u001b[14A\u001b[2K\u001b[8A\u001b[2K\u001b[14A\u001b[2K\u001b[8A\u001b[2K\u001b[14A\u001b[2K\u001b[8A\u001b[2K\u001b[14A\u001b[2K\u001b[8A\u001b[2K\u001b[14A\u001b[2K\u001b[8A\u001b[2K\u001b[14A\u001b[2K\u001b[8A\u001b[2K\u001b[14A\u001b[2K\u001b[8A\u001b[2K\u001b[8A\u001b[2K\u001b[8A\u001b[2K\u001b[14A\u001b[2K\u001b[8A\u001b[2K\u001b[14A\u001b[2K\u001b[8A\u001b[2K\u001b[8A\u001b[2K\u001b[14A\u001b[2K\u001b[8A\u001b[2K\u001b[14A\u001b[2K\u001b[8A\u001b[2K\u001b[14A\u001b[2K\u001b[8A\u001b[2K\u001b[14A\u001b[2K\u001b[8A\u001b[2K\u001b[14A\u001b[2K\u001b[8A\u001b[2K\u001b[14A\u001b[2K\u001b[8A\u001b[2K\u001b[14A\u001b[2K\u001b[8A\u001b[2K\u001b[14A\u001b[2K\u001b[8A\u001b[2K\u001b[14A\u001b[2K\u001b[8A\u001b[2K\u001b[14A\u001b[2K\u001b[14A\u001b[2K\u001b[14A\u001b[2K\u001b[14A\u001b[2K\u001b[8A\u001b[2K\u001b[14A\u001b[2K\u001b[8A\u001b[2K\u001b[14A\u001b[2K\u001b[8A\u001b[2K\u001b[14A\u001b[2K\u001b[14A\u001b[2K\u001b[14A\u001b[2K\u001b[8A\u001b[2K\u001b[14A\u001b[2K\u001b[14A\u001b[2K\u001b[8A\u001b[2K\u001b[14A\u001b[2K\u001b[8A\u001b[2K\u001b[14A\u001b[2K\u001b[14A\u001b[2K\u001b[14A\u001b[2K\u001b[14A\u001b[2K\u001b[14A\u001b[2K\u001b[14A\u001b[2K\u001b[8A\u001b[2K\u001b[14A\u001b[2K\u001b[14A\u001b[2K\u001b[14A\u001b[2K\u001b[14A\u001b[2K\u001b[8A\u001b[2K\u001b[14A\u001b[2K\u001b[14A\u001b[2K\u001b[8A\u001b[2K\u001b[14A\u001b[2K\u001b[8A\u001b[2K\u001b[14A\u001b[2K\u001b[8A\u001b[2K\u001b[14A\u001b[2K\u001b[14A\u001b[2K\u001b[8A\u001b[2K\u001b[14A\u001b[2K\u001b[8A\u001b[2K\u001b[8A\u001b[2K\u001b[8A\u001b[2K\u001b[14A\u001b[2K\u001b[8A\u001b[2K\u001b[8A\u001b[2K\u001b[14A\u001b[2K\u001b[8A\u001b[2K\u001b[14A\u001b[2K\u001b[8A\u001b[2K\u001b[14A\u001b[2K\u001b[14A\u001b[2K\u001b[8A\u001b[2K\u001b[14A\u001b[2K\u001b[14A\u001b[2K\u001b[8A\u001b[2K\u001b[14A\u001b[2K\u001b[8A\u001b[2K\u001b[14A\u001b[2K\u001b[8A\u001b[2K\u001b[14A\u001b[2K\u001b[8A\u001b[2K\u001b[14A\u001b[2K\u001b[8A\u001b[2K\u001b[14A\u001b[2K\u001b[8A\u001b[2K\u001b[14A\u001b[2K\u001b[8A\u001b[2K\u001b[14A\u001b[2K\u001b[8A\u001b[2K\u001b[14A\u001b[2K\u001b[8A\u001b[2K\u001b[14A\u001b[2K\u001b[8A\u001b[2K\u001b[14A\u001b[2K\u001b[8A\u001b[2K\u001b[8A\u001b[2K\u001b[8A\u001b[2K\u001b[14A\u001b[2K\u001b[8A\u001b[2K\u001b[14A\u001b[2K\u001b[8A\u001b[2K\u001b[8A\u001b[2K\u001b[14A\u001b[2K\u001b[8A\u001b[2K\u001b[14A\u001b[2K\u001b[8A\u001b[2K\u001b[14A\u001b[2K\u001b[8A\u001b[2K\u001b[8A\u001b[2K\u001b[14A\u001b[2K\u001b[8A\u001b[2K\u001b[14A\u001b[2K\u001b[14A\u001b[2K\u001b[14A\u001b[2K\u001b[8A\u001b[2K\u001b[14A\u001b[2K\u001b[14A\u001b[2K\u001b[8A\u001b[2K\u001b[14A\u001b[2K\u001b[8A\u001b[2K\u001b[14A\u001b[2K\u001b[8A\u001b[2K\u001b[14A\u001b[2K\u001b[8A\u001b[2K\u001b[14A\u001b[2K\u001b[8A\u001b[2K\u001b[8A\u001b[2K\u001b[14A\u001b[2K\u001b[8A\u001b[2K\u001b[14A\u001b[2K\u001b[14A\u001b[2K\u001b[8A\u001b[2K\u001b[14A\u001b[2K\u001b[8A\u001b[2K\u001b[14A\u001b[2K\u001b[14A\u001b[2K\u001b[14A\u001b[2K\u001b[8A\u001b[2K\u001b[14A\u001b[2K\u001b[8A\u001b[2K\u001b[14A\u001b[2K\u001b[8A\u001b[2K\u001b[14A\u001b[2K\u001b[8A\u001b[2K\u001b[14A\u001b[2K\u001b[8A\u001b[2K\u001b[8A\u001b[2K\u001b[8A\u001b[2K\u001b[14A\u001b[2K\u001b[8A\u001b[2K\u001b[14A\u001b[2K\u001b[14A\u001b[2K\u001b[14A\u001b[2K\u001b[14A\u001b[2K\u001b[14A\u001b[2K\u001b[8A\u001b[2K\u001b[14A\u001b[2K\u001b[8A\u001b[2K\u001b[14A\u001b[2K\u001b[8A\u001b[2K\u001b[8A\u001b[2K\u001b[14A\u001b[2K\u001b[8A\u001b[2K\u001b[8A\u001b[2K\u001b[8A\u001b[2K\u001b[14A\u001b[2K\u001b[8A\u001b[2K\u001b[14A\u001b[2K\u001b[8A\u001b[2K\u001b[14A\u001b[2K\u001b[8A\u001b[2K\u001b[14A\u001b[2K\u001b[8A\u001b[2K\u001b[14A\u001b[2K\u001b[8A\u001b[2K\u001b[14A\u001b[2K\u001b[14A\u001b[2K\u001b[14A\u001b[2K\u001b[8A\u001b[2K\u001b[14A\u001b[2K\u001b[8A\u001b[2K\u001b[14A\u001b[2K\u001b[8A\u001b[2K\u001b[14A\u001b[2K\u001b[14A\u001b[2K\u001b[14A\u001b[2K\u001b[14A\u001b[2K\u001b[8A\u001b[2K\u001b[14A\u001b[2K\u001b[8A\u001b[2K\u001b[14A\u001b[2K\u001b[8A\u001b[2K\u001b[14A\u001b[2K\u001b[14A\u001b[2K\u001b[8A\u001b[2K\u001b[14A\u001b[2K\u001b[8A\u001b[2K\u001b[14A\u001b[2K\u001b[8A\u001b[2K\u001b[8A\u001b[2K\u001b[14A\u001b[2K\u001b[8A\u001b[2K\u001b[8A\u001b[2K\u001b[14A\u001b[2K\u001b[8A\u001b[2K\u001b[14A\u001b[2K\u001b[8A\u001b[2K\u001b[14A\u001b[2K\u001b[14A\u001b[2K\u001b[14A\u001b[2K\u001b[14A\u001b[2K\u001b[8A\u001b[2K\u001b[14A\u001b[2K\u001b[14A\u001b[2K\u001b[14A\u001b[2K\u001b[14A\u001b[2K\u001b[8A\u001b[2K\u001b[14A\u001b[2K\u001b[8A\u001b[2K\u001b[14A\u001b[2K\u001b[8A\u001b[2K\u001b[14A\u001b[2K\u001b[8A\u001b[2K\u001b[14A\u001b[2K\u001b[8A\u001b[2K\u001b[14A\u001b[2K\u001b[14A\u001b[2K\u001b[8A\u001b[2K\u001b[14A\u001b[2K\u001b[14A\u001b[2K\u001b[8A\u001b[2K\u001b[14A\u001b[2K\u001b[8A\u001b[2K\u001b[14A\u001b[2K\u001b[8A\u001b[2K\u001b[14A\u001b[2K\u001b[8A\u001b[2K\u001b[14A\u001b[2K\u001b[8A\u001b[2K\u001b[14A\u001b[2K\u001b[8A\u001b[2K\u001b[14A\u001b[2K\u001b[8A\u001b[2K\u001b[14A\u001b[2K\u001b[8A\u001b[2K\u001b[14A\u001b[2K\u001b[8A\u001b[2K\u001b[14A\u001b[2K\u001b[8A\u001b[2K\u001b[14A\u001b[2K\u001b[8A\u001b[2K\u001b[14A\u001b[2K\u001b[14A\u001b[2K\u001b[8A\u001b[2K\u001b[14A\u001b[2K\u001b[8A\u001b[2K\u001b[14A\u001b[2K\u001b[8A\u001b[2K\u001b[14A\u001b[2K\u001b[8A\u001b[2K\u001b[14A\u001b[2K\u001b[8A\u001b[2K\u001b[14A\u001b[2K\u001b[8A\u001b[2K\u001b[14A\u001b[2K\u001b[8A\u001b[2K\u001b[14A\u001b[2K\u001b[8A\u001b[2K\u001b[14A\u001b[2K\u001b[8A\u001b[2K\u001b[14A\u001b[2K\u001b[8A\u001b[2K\u001b[14A\u001b[2K\u001b[14A\u001b[2K\u001b[14A\u001b[2K\u001b[14A\u001b[2K\u001b[8A\u001b[2K\u001b[8A\u001b[2K\u001b[14A\u001b[2K\u001b[8A\u001b[2K\u001b[8A\u001b[2K\u001b[14A\u001b[2K\u001b[8A\u001b[2K\u001b[8A\u001b[2K\u001b[8A\u001b[2K\u001b[14A\u001b[2K\u001b[8A\u001b[2K\u001b[14A\u001b[2K\u001b[8A\u001b[2K\u001b[14A\u001b[2K\u001b[8A\u001b[2K\u001b[14A\u001b[2K\u001b[14A\u001b[2K\u001b[8A\u001b[2K\u001b[14A\u001b[2K\u001b[8A\u001b[2K\u001b[14A\u001b[2K\u001b[8A\u001b[2K\u001b[14A\u001b[2K\u001b[8A\u001b[2K\u001b[14A\u001b[2K\u001b[8A\u001b[2K\u001b[14A\u001b[2K\u001b[8A\u001b[2K\u001b[14A\u001b[2K\u001b[8A\u001b[2K\u001b[8A\u001b[2K\u001b[14A\u001b[2K\u001b[8A\u001b[2K\u001b[14A\u001b[2K\u001b[8A\u001b[2K\u001b[14A\u001b[2K\u001b[8A\u001b[2K\u001b[8A\u001b[2K\u001b[8A\u001b[2K\u001b[8A\u001b[2K\u001b[8A\u001b[2K\u001b[14A\u001b[2K\u001b[8A\u001b[2K\u001b[14A\u001b[2K\u001b[8A\u001b[2K\u001b[14A\u001b[2K\u001b[8A\u001b[2K\u001b[14A\u001b[2K\u001b[8A\u001b[2K\u001b[8A\u001b[2K\u001b[14A\u001b[2K\u001b[8A\u001b[2K\u001b[14A\u001b[2K\u001b[8A\u001b[2K\u001b[14A\u001b[2K\u001b[8A\u001b[2K\u001b[14A\u001b[2K\u001b[8A\u001b[2K\u001b[8A\u001b[2K\u001b[14A\u001b[2K\u001b[8A\u001b[2K\u001b[8A\u001b[2K\u001b[14A\u001b[2K\u001b[8A\u001b[2K\u001b[14A\u001b[2K\u001b[8A\u001b[2K\u001b[14A\u001b[2K\u001b[8A\u001b[2K\u001b[14A\u001b[2K\u001b[14A\u001b[2K\u001b[8A\u001b[2K\u001b[14A\u001b[2K\u001b[8A\u001b[2K\u001b[14A\u001b[2K\u001b[8A\u001b[2K\u001b[14A\u001b[2K\u001b[8A\u001b[2K\u001b[14A\u001b[2K\u001b[14A\u001b[2K\u001b[14A\u001b[2K\u001b[8A\u001b[2K\u001b[14A\u001b[2K\u001b[8A\u001b[2K\u001b[14A\u001b[2K\u001b[8A\u001b[2K\u001b[14A\u001b[2K\u001b[8A\u001b[2K\u001b[14A\u001b[2K\u001b[8A\u001b[2K\u001b[14A\u001b[2K\u001b[8A\u001b[2K\u001b[14A\u001b[2K\u001b[8A\u001b[2K\u001b[8A\u001b[2K\u001b[14A\u001b[2K\u001b[8A\u001b[2K\u001b[14A\u001b[2K\u001b[14A\u001b[2K\u001b[14A\u001b[2K\u001b[14A\u001b[2K\u001b[8A\u001b[2K\u001b[14A\u001b[2K\u001b[8A\u001b[2K\u001b[14A\u001b[2K\u001b[8A\u001b[2K\u001b[14A\u001b[2K\u001b[8A\u001b[2K\u001b[14A\u001b[2K\u001b[8A\u001b[2K\u001b[14A\u001b[2K\u001b[8A\u001b[2K\u001b[14A\u001b[2K\u001b[8A\u001b[2K\u001b[14A\u001b[2K\u001b[8A\u001b[2K\u001b[14A\u001b[2K\u001b[8A\u001b[2K\u001b[14A\u001b[2K\u001b[8A\u001b[2K\u001b[14A\u001b[2K\u001b[8A\u001b[2K\u001b[14A\u001b[2K\u001b[8A\u001b[2K\u001b[14A\u001b[2K\u001b[8A\u001b[2K\u001b[14A\u001b[2K\u001b[8A\u001b[2K\u001b[14A\u001b[2K\u001b[8A\u001b[2K\u001b[14A\u001b[2K\u001b[8A\u001b[2K\u001b[14A\u001b[2K\u001b[14A\u001b[2K\u001b[8A\u001b[2K\u001b[14A\u001b[2K\u001b[8A\u001b[2K\u001b[14A\u001b[2K\u001b[8A\u001b[2K\u001b[14A\u001b[2K\u001b[8A\u001b[2K\u001b[14A\u001b[2K\u001b[8A\u001b[2K\u001b[14A\u001b[2K\u001b[8A\u001b[2K\u001b[8A\u001b[2K\u001b[8A\u001b[2K\u001b[8A\u001b[2K\u001b[14A\u001b[2K\u001b[8A\u001b[2K\u001b[14A\u001b[2K\u001b[8A\u001b[2K\u001b[14A\u001b[2K\u001b[8A\u001b[2K\u001b[14A\u001b[2K\u001b[8A\u001b[2K\u001b[14A\u001b[2K\u001b[14A\u001b[2K\u001b[8A\u001b[2K\u001b[14A\u001b[2K\u001b[8A\u001b[2K\u001b[14A\u001b[2K\u001b[14A\u001b[2K\u001b[8A\u001b[2K\u001b[14A\u001b[2K\u001b[8A\u001b[2K\u001b[14A\u001b[2K\u001b[8A\u001b[2K\u001b[14A\u001b[2K\u001b[8A\u001b[2K\u001b[14A\u001b[2K\u001b[8A\u001b[2K\u001b[14A\u001b[2K\u001b[8A\u001b[2K\u001b[14A\u001b[2K\u001b[8A\u001b[2K\u001b[14A\u001b[2K\u001b[14A\u001b[2K\u001b[8A\u001b[2K\u001b[14A\u001b[2K\u001b[8A\u001b[2K\u001b[14A\u001b[2K\u001b[8A\u001b[2K\u001b[14A\u001b[2K\u001b[8A\u001b[2K\u001b[8A\u001b[2K\u001b[14A\u001b[2K\u001b[14A\u001b[2K\u001b[14A\u001b[2K\u001b[14A\u001b[2K\u001b[8A\u001b[2K\u001b[14A\u001b[2K\u001b[14A\u001b[2K\u001b[8A\u001b[2K\u001b[14A\u001b[2K\u001b[14A\u001b[2K\u001b[8A\u001b[2K\u001b[14A\u001b[2K\u001b[8A\u001b[2K\u001b[14A\u001b[2K\u001b[8A\u001b[2K\u001b[14A\u001b[2K\u001b[8A\u001b[2K\u001b[14A\u001b[2K\u001b[8A\u001b[2K\u001b[14A\u001b[2K\u001b[8A\u001b[2K\u001b[8A\u001b[2K\u001b[14A\u001b[2K\u001b[8A\u001b[2K\u001b[14A\u001b[2K\u001b[8A\u001b[2K\u001b[14A\u001b[2K\u001b[8A\u001b[2K\u001b[14A\u001b[2K\u001b[8A\u001b[2K\u001b[14A\u001b[2K\u001b[14A\u001b[2K\u001b[14A\u001b[2K\u001b[8A\u001b[2K\u001b[14A\u001b[2K\u001b[8A\u001b[2K\u001b[14A\u001b[2K\u001b[8A\u001b[2K\u001b[14A\u001b[2K\u001b[8A\u001b[2K\u001b[14A\u001b[2K\u001b[8A\u001b[2K\u001b[14A\u001b[2K\u001b[8A\u001b[2K\u001b[14A\u001b[2K\u001b[14A\u001b[2K\u001b[8A\u001b[2K\u001b[14A\u001b[2K\u001b[14A\u001b[2K\u001b[14A\u001b[2K\u001b[8A\u001b[2K\u001b[8A\u001b[2K\u001b[8A\u001b[2K\u001b[14A\u001b[2K\u001b[14A\u001b[2K\u001b[14A\u001b[2K\u001b[8A\u001b[2K\u001b[14A\u001b[2K\u001b[8A\u001b[2K\u001b[14A\u001b[2K\u001b[8A\u001b[2K\u001b[14A\u001b[2K\u001b[8A\u001b[2K\u001b[14A\u001b[2K\u001b[8A\u001b[2K\u001b[14A\u001b[2K\u001b[8A\u001b[2K\u001b[14A\u001b[2K\u001b[8A\u001b[2K\u001b[14A\u001b[2K\u001b[8A\u001b[2K\u001b[8A\u001b[2K\u001b[8A\u001b[2K\u001b[8A\u001b[2K\u001b[14A\u001b[2K\u001b[8A\u001b[2K\u001b[14A\u001b[2K\u001b[8A\u001b[2K\u001b[14A\u001b[2K\u001b[14A\u001b[2K\u001b[14A\u001b[2K\u001b[14A\u001b[2K\u001b[8A\u001b[2K\u001b[14A\u001b[2K\u001b[14A\u001b[2K\u001b[14A\u001b[2K\u001b[8A\u001b[2K\u001b[14A\u001b[2K\u001b[8A\u001b[2K\u001b[14A\u001b[2K\u001b[8A\u001b[2K\u001b[14A\u001b[2K\u001b[8A\u001b[2K\u001b[14A\u001b[2K\u001b[8A\u001b[2K\u001b[14A\u001b[2K\u001b[14A\u001b[2K\u001b[8A\u001b[2K\u001b[8A\u001b[2K\u001b[14A\u001b[2K\u001b[8A\u001b[2K\u001b[14A\u001b[2K\u001b[8A\u001b[2K\u001b[14A\u001b[2K\u001b[8A\u001b[2K\u001b[8A\u001b[2K\u001b[8A\u001b[2K\u001b[14A\u001b[2K\u001b[8A\u001b[2K\u001b[14A\u001b[2K\u001b[8A\u001b[2K\u001b[14A\u001b[2K\u001b[14A\u001b[2K\u001b[14A\u001b[2K\u001b[8A\u001b[2K\u001b[8A\u001b[2K\u001b[8A\u001b[2K\u001b[14A\u001b[2K\u001b[8A\u001b[2K\u001b[14A\u001b[2K\u001b[8A\u001b[2K\u001b[8A\u001b[2K\u001b[14A\u001b[2K\u001b[8A\u001b[2K\u001b[14A\u001b[2K\u001b[14A\u001b[2K\u001b[14A\u001b[2K\u001b[14A\u001b[2K\u001b[8A\u001b[2K\u001b[14A\u001b[2K\u001b[8A\u001b[2K\u001b[14A\u001b[2K\u001b[8A\u001b[2K\u001b[14A\u001b[2K\u001b[8A\u001b[2K\u001b[14A\u001b[2K\u001b[8A\u001b[2K\u001b[14A\u001b[2K\u001b[8A\u001b[2K\u001b[14A\u001b[2K\u001b[14A\u001b[2K\u001b[8A\u001b[2K\u001b[14A\u001b[2K\u001b[14A\u001b[2K\u001b[14A\u001b[2K\u001b[14A\u001b[2K\u001b[8A\u001b[2K\u001b[14A\u001b[2K\u001b[8A\u001b[2K\u001b[14A\u001b[2K\u001b[8A\u001b[2K\u001b[14A\u001b[2K\u001b[8A\u001b[2K\u001b[8A\u001b[2K\u001b[14A\u001b[2K\u001b[8A\u001b[2K\u001b[14A\u001b[2K\u001b[8A\u001b[2K\u001b[14A\u001b[2K\u001b[8A\u001b[2K\u001b[14A\u001b[2K\u001b[8A\u001b[2K\u001b[14A\u001b[2K\u001b[8A\u001b[2K\u001b[14A\u001b[2K\u001b[8A\u001b[2K\u001b[14A\u001b[2K\u001b[8A\u001b[2K\u001b[14A\u001b[2K\u001b[8A\u001b[2K\u001b[14A\u001b[2K\u001b[8A\u001b[2K\u001b[14A\u001b[2K\u001b[8A\u001b[2K\u001b[8A\u001b[2K\u001b[8A\u001b[2K\u001b[8A\u001b[2K\u001b[14A\u001b[2K\u001b[8A\u001b[2K\u001b[8A\u001b[2K\u001b[8A\u001b[2K\u001b[14A\u001b[2K\u001b[8A\u001b[2K\u001b[8A\u001b[2K\u001b[14A\u001b[2K\u001b[8A\u001b[2K\u001b[14A\u001b[2K\u001b[14A\u001b[2K\u001b[14A\u001b[2K\u001b[8A\u001b[2K\u001b[14A\u001b[2K\u001b[14A\u001b[2K\u001b[8A\u001b[2K\u001b[14A\u001b[2K\u001b[8A\u001b[2K\u001b[14A\u001b[2K\u001b[14A\u001b[2K\u001b[14A\u001b[2K\u001b[8A\u001b[2K\u001b[14A\u001b[2K\u001b[14A\u001b[2K\u001b[8A\u001b[2K\u001b[8A\u001b[2K\u001b[8A\u001b[2K\u001b[8A\u001b[2K\u001b[14A\u001b[2K\u001b[8A\u001b[2K\u001b[14A\u001b[2K\u001b[14A\u001b[2K\u001b[14A\u001b[2K\u001b[8A\u001b[2K\u001b[14A\u001b[2K\u001b[8A\u001b[2K\u001b[14A\u001b[2K\u001b[8A\u001b[2K\u001b[8A\u001b[2K\u001b[14A\u001b[2K\u001b[14A\u001b[2K\u001b[14A\u001b[2K\u001b[8A\u001b[2K\u001b[14A\u001b[2K\u001b[14A\u001b[2K\u001b[8A\u001b[2K\u001b[14A\u001b[2K\u001b[8A\u001b[2K\u001b[14A\u001b[2K\u001b[8A\u001b[2K\u001b[14A\u001b[2K\u001b[8A\u001b[2K\u001b[14A\u001b[2K\u001b[14A\u001b[2K\u001b[8A\u001b[2K\u001b[14A\u001b[2K\u001b[8A\u001b[2K\u001b[14A\u001b[2K\u001b[8A\u001b[2K\u001b[14A\u001b[2K\u001b[8A\u001b[2K\u001b[14A\u001b[2K\u001b[8A\u001b[2K\u001b[14A\u001b[2K\u001b[14A\u001b[2K\u001b[14A\u001b[2K\u001b[8A\u001b[2K\u001b[14A\u001b[2K\u001b[14A\u001b[2K\u001b[14A\u001b[2K\u001b[14A\u001b[2K\u001b[8A\u001b[2K\u001b[14A\u001b[2K\u001b[8A\u001b[2K\u001b[8A\u001b[2K\u001b[14A\u001b[2K\u001b[8A\u001b[2K\u001b[8A\u001b[2K\u001b[8A\u001b[2K\u001b[14A\u001b[2K\u001b[8A\u001b[2K\u001b[14A\u001b[2K\u001b[8A\u001b[2K\u001b[14A\u001b[2K\u001b[8A\u001b[2K\u001b[14A\u001b[2K\u001b[8A\u001b[2K\u001b[14A\u001b[2K\u001b[8A\u001b[2K\u001b[14A\u001b[2K\u001b[8A\u001b[2K\u001b[14A\u001b[2K\u001b[8A\u001b[2K\u001b[14A\u001b[2K\u001b[8A\u001b[2K\u001b[8A\u001b[2K\u001b[14A\u001b[2K\u001b[8A\u001b[2K\u001b[14A\u001b[2K\u001b[8A\u001b[2K\u001b[14A\u001b[2K\u001b[8A\u001b[2K\u001b[14A\u001b[2K\u001b[8A\u001b[2K\u001b[14A\u001b[2K\u001b[14A\u001b[2K\u001b[14A\u001b[2K\u001b[8A\u001b[2K\u001b[14A\u001b[2K\u001b[8A\u001b[2K\u001b[14A\u001b[2K\u001b[14A\u001b[2K\u001b[14A\u001b[2K\u001b[14A\u001b[2K\u001b[14A\u001b[2K\u001b[14A\u001b[2K\u001b[14A\u001b[2K\u001b[8A\u001b[2K\u001b[14A\u001b[2K\u001b[14A\u001b[2K\u001b[14A\u001b[2K\u001b[14A\u001b[2K\u001b[14A\u001b[2K\u001b[14A\u001b[2K\u001b[14A\u001b[2K\u001b[14A\u001b[2K\u001b[14A\u001b[2K\u001b[14A\u001b[2K\u001b[14A\u001b[2K\u001b[14A\u001b[2K\u001b[14A\u001b[2K\u001b[14A\u001b[2K\u001b[14A\u001b[2K\u001b[14A\u001b[2K\u001b[14A\u001b[2K\u001b[14A\u001b[2K\u001b[14A\u001b[2K\u001b[14A\u001b[2K\u001b[14A\u001b[2K\u001b[14A\u001b[2K\u001b[14A\u001b[2K\u001b[14A\u001b[2K\u001b[14A\u001b[2K\u001b[14A\u001b[2K\u001b[14A\u001b[2K\u001b[14A\u001b[2K\u001b[14A\u001b[2K\u001b[14A\u001b[2K\u001b[14A\u001b[2K\u001b[14A\u001b[2K\u001b[14A\u001b[2K\u001b[14A\u001b[2K\u001b[14A\u001b[2K\u001b[14A\u001b[2K\u001b[14A\u001b[2K\u001b[14A\u001b[2K\u001b[14A\u001b[2K\u001b[14A\u001b[2K\u001b[14A\u001b[2K\u001b[14A\u001b[2K\u001b[14A\u001b[2K\u001b[14A\u001b[2K\u001b[14A\u001b[2K\u001b[14A\u001b[2K\u001b[14A\u001b[2K\u001b[14A\u001b[2K\u001b[14A\u001b[2K\u001b[14A\u001b[2K\u001b[14A\u001b[2K\u001b[14A\u001b[2K\u001b[14A\u001b[2K\u001b[14A\u001b[2K\u001b[14A\u001b[2K\u001b[14A\u001b[2K\u001b[14A\u001b[2K\u001b[14A\u001b[2K\u001b[14A\u001b[2K\u001b[14A\u001b[2K\u001b[14A\u001b[2K\u001b[14A\u001b[2K\u001b[14A\u001b[2K\u001b[14A\u001b[2KPushing  1.735GB/1.756GB\u001b[14A\u001b[2K\u001b[14A\u001b[2K\u001b[14A\u001b[2K\u001b[14A\u001b[2K\u001b[14A\u001b[2K\u001b[14A\u001b[2K\u001b[14A\u001b[2K\u001b[14A\u001b[2K\u001b[14A\u001b[2K\u001b[14A\u001b[2K\u001b[14A\u001b[2K\u001b[14A\u001b[2K\u001b[14A\u001b[2K\u001b[14A\u001b[2K\u001b[14A\u001b[2K\u001b[14A\u001b[2K\u001b[14A\u001b[2K\u001b[14A\u001b[2K\u001b[14A\u001b[2K\u001b[14A\u001b[2K\u001b[14A\u001b[2K20210623102923: digest: sha256:12cb3a845fb019a3187853dcecfaeb1aa479140de2d5146741b5ac1dea517eca size: 7853\n"
     ]
    }
   ],
   "source": [
    "!sh ./docker/build_and_push.sh $image_name"
   ]
  },
  {
   "cell_type": "code",
   "execution_count": 5,
   "metadata": {},
   "outputs": [
    {
     "name": "stdout",
     "output_type": "stream",
     "text": [
      "743025358310.dkr.ecr.us-west-2.amazonaws.com/copying-ecr-expr2:20210623102923\n"
     ]
    }
   ],
   "source": [
    "import os\n",
    "with open (os.path.join('docker', 'ecr_image_fullname.txt'), 'r') as f:\n",
    "    container = f.readlines()[0][:-1]\n",
    "    \n",
    "print(container)"
   ]
  },
  {
   "cell_type": "code",
   "execution_count": null,
   "metadata": {},
   "outputs": [],
   "source": []
  }
 ],
 "metadata": {
  "kernelspec": {
   "display_name": "conda_tensorflow2_p36",
   "language": "python",
   "name": "conda_tensorflow2_p36"
  },
  "language_info": {
   "codemirror_mode": {
    "name": "ipython",
    "version": 3
   },
   "file_extension": ".py",
   "mimetype": "text/x-python",
   "name": "python",
   "nbconvert_exporter": "python",
   "pygments_lexer": "ipython3",
   "version": "3.6.13"
  }
 },
 "nbformat": 4,
 "nbformat_minor": 4
}
